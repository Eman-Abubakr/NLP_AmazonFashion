{
 "cells": [
  {
   "cell_type": "markdown",
   "metadata": {},
   "source": [
    "# Imports and Loading the Data"
   ]
  },
  {
   "cell_type": "code",
   "execution_count": 1,
   "metadata": {},
   "outputs": [
    {
     "name": "stderr",
     "output_type": "stream",
     "text": [
      "C:\\Users\\Mark\\AppData\\Local\\Temp\\ipykernel_18896\\3720679487.py:3: DeprecationWarning: \n",
      "Pyarrow will become a required dependency of pandas in the next major release of pandas (pandas 3.0),\n",
      "(to allow more performant data types, such as the Arrow string type, and better interoperability with other libraries)\n",
      "but was not found to be installed on your system.\n",
      "If this would cause problems for you,\n",
      "please provide us feedback at https://github.com/pandas-dev/pandas/issues/54466\n",
      "        \n",
      "  import pandas as pd\n",
      "c:\\Users\\Mark\\anaconda3\\envs\\gpu2\\lib\\site-packages\\tqdm\\auto.py:21: TqdmWarning: IProgress not found. Please update jupyter and ipywidgets. See https://ipywidgets.readthedocs.io/en/stable/user_install.html\n",
      "  from .autonotebook import tqdm as notebook_tqdm\n",
      "c:\\Users\\Mark\\anaconda3\\envs\\gpu2\\lib\\site-packages\\transformers\\utils\\generic.py:311: UserWarning: torch.utils._pytree._register_pytree_node is deprecated. Please use torch.utils._pytree.register_pytree_node instead.\n",
      "  torch.utils._pytree._register_pytree_node(\n"
     ]
    }
   ],
   "source": [
    "import matplotlib.pyplot as plt\n",
    "import numpy as np\n",
    "import pandas as pd\n",
    "import seaborn as sns\n",
    "import string\n",
    "from collections import defaultdict\n",
    "from typing import Dict, List\n",
    "\n",
    "import nltk\n",
    "from nltk.corpus import stopwords, sentiwordnet as swn\n",
    "from nltk.stem import WordNetLemmatizer\n",
    "from nltk.tokenize import word_tokenize, sent_tokenize\n",
    "from nltk.sentiment import SentimentIntensityAnalyzer\n",
    "\n",
    "from sklearn.naive_bayes import MultinomialNB\n",
    "from sklearn.feature_extraction.text import TfidfVectorizer\n",
    "from sklearn.linear_model import LogisticRegression\n",
    "from sklearn.metrics import accuracy_score, confusion_matrix, classification_report, f1_score, precision_score, recall_score\n",
    "from sklearn.model_selection import train_test_split\n",
    "from sklearn.pipeline import Pipeline\n",
    "from sklearn.preprocessing import LabelEncoder\n",
    "from sklearn.ensemble import GradientBoostingClassifier\n",
    "\n",
    "import tensorflow as tf\n",
    "from tensorflow.keras.utils import to_categorical\n",
    "from tensorflow.keras.models import Sequential\n",
    "from tensorflow.keras.layers import Dense, Dropout\n",
    "\n",
    "from transformers import GPT2Tokenizer, GPT2LMHeadModel\n",
    "from transformers import BartTokenizer, BartForConditionalGeneration"
   ]
  },
  {
   "cell_type": "code",
   "execution_count": 2,
   "metadata": {},
   "outputs": [],
   "source": [
    "file_path = \"./data/AMAZON_FASHION_5.json\"\n",
    "\n",
    "df = pd.read_json(file_path, lines = True) # lines = True tells pandas to treat each line as a single json document"
   ]
  },
  {
   "cell_type": "code",
   "execution_count": 3,
   "metadata": {},
   "outputs": [
    {
     "data": {
      "text/html": [
       "<div>\n",
       "<style scoped>\n",
       "    .dataframe tbody tr th:only-of-type {\n",
       "        vertical-align: middle;\n",
       "    }\n",
       "\n",
       "    .dataframe tbody tr th {\n",
       "        vertical-align: top;\n",
       "    }\n",
       "\n",
       "    .dataframe thead th {\n",
       "        text-align: right;\n",
       "    }\n",
       "</style>\n",
       "<table border=\"1\" class=\"dataframe\">\n",
       "  <thead>\n",
       "    <tr style=\"text-align: right;\">\n",
       "      <th></th>\n",
       "      <th>overall</th>\n",
       "      <th>verified</th>\n",
       "      <th>reviewTime</th>\n",
       "      <th>reviewerID</th>\n",
       "      <th>asin</th>\n",
       "      <th>style</th>\n",
       "      <th>reviewerName</th>\n",
       "      <th>reviewText</th>\n",
       "      <th>summary</th>\n",
       "      <th>unixReviewTime</th>\n",
       "      <th>vote</th>\n",
       "      <th>image</th>\n",
       "    </tr>\n",
       "  </thead>\n",
       "  <tbody>\n",
       "    <tr>\n",
       "      <th>0</th>\n",
       "      <td>5</td>\n",
       "      <td>True</td>\n",
       "      <td>09 4, 2015</td>\n",
       "      <td>ALJ66O1Y6SLHA</td>\n",
       "      <td>B000K2PJ4K</td>\n",
       "      <td>{'Size:': ' Big Boys', 'Color:': ' Blue/Orange'}</td>\n",
       "      <td>Tonya B.</td>\n",
       "      <td>Great product and price!</td>\n",
       "      <td>Five Stars</td>\n",
       "      <td>1441324800</td>\n",
       "      <td>NaN</td>\n",
       "      <td>NaN</td>\n",
       "    </tr>\n",
       "    <tr>\n",
       "      <th>1</th>\n",
       "      <td>5</td>\n",
       "      <td>True</td>\n",
       "      <td>09 4, 2015</td>\n",
       "      <td>ALJ66O1Y6SLHA</td>\n",
       "      <td>B000K2PJ4K</td>\n",
       "      <td>{'Size:': ' Big Boys', 'Color:': ' Black (3746...</td>\n",
       "      <td>Tonya B.</td>\n",
       "      <td>Great product and price!</td>\n",
       "      <td>Five Stars</td>\n",
       "      <td>1441324800</td>\n",
       "      <td>NaN</td>\n",
       "      <td>NaN</td>\n",
       "    </tr>\n",
       "    <tr>\n",
       "      <th>2</th>\n",
       "      <td>5</td>\n",
       "      <td>True</td>\n",
       "      <td>09 4, 2015</td>\n",
       "      <td>ALJ66O1Y6SLHA</td>\n",
       "      <td>B000K2PJ4K</td>\n",
       "      <td>{'Size:': ' Big Boys', 'Color:': ' Blue/Gray L...</td>\n",
       "      <td>Tonya B.</td>\n",
       "      <td>Great product and price!</td>\n",
       "      <td>Five Stars</td>\n",
       "      <td>1441324800</td>\n",
       "      <td>NaN</td>\n",
       "      <td>NaN</td>\n",
       "    </tr>\n",
       "    <tr>\n",
       "      <th>3</th>\n",
       "      <td>5</td>\n",
       "      <td>True</td>\n",
       "      <td>09 4, 2015</td>\n",
       "      <td>ALJ66O1Y6SLHA</td>\n",
       "      <td>B000K2PJ4K</td>\n",
       "      <td>{'Size:': ' Big Boys', 'Color:': ' Blue (37867...</td>\n",
       "      <td>Tonya B.</td>\n",
       "      <td>Great product and price!</td>\n",
       "      <td>Five Stars</td>\n",
       "      <td>1441324800</td>\n",
       "      <td>NaN</td>\n",
       "      <td>NaN</td>\n",
       "    </tr>\n",
       "    <tr>\n",
       "      <th>4</th>\n",
       "      <td>5</td>\n",
       "      <td>True</td>\n",
       "      <td>09 4, 2015</td>\n",
       "      <td>ALJ66O1Y6SLHA</td>\n",
       "      <td>B000K2PJ4K</td>\n",
       "      <td>{'Size:': ' Big Boys', 'Color:': ' Blue/Pink'}</td>\n",
       "      <td>Tonya B.</td>\n",
       "      <td>Great product and price!</td>\n",
       "      <td>Five Stars</td>\n",
       "      <td>1441324800</td>\n",
       "      <td>NaN</td>\n",
       "      <td>NaN</td>\n",
       "    </tr>\n",
       "  </tbody>\n",
       "</table>\n",
       "</div>"
      ],
      "text/plain": [
       "   overall  verified  reviewTime     reviewerID        asin  \\\n",
       "0        5      True  09 4, 2015  ALJ66O1Y6SLHA  B000K2PJ4K   \n",
       "1        5      True  09 4, 2015  ALJ66O1Y6SLHA  B000K2PJ4K   \n",
       "2        5      True  09 4, 2015  ALJ66O1Y6SLHA  B000K2PJ4K   \n",
       "3        5      True  09 4, 2015  ALJ66O1Y6SLHA  B000K2PJ4K   \n",
       "4        5      True  09 4, 2015  ALJ66O1Y6SLHA  B000K2PJ4K   \n",
       "\n",
       "                                               style reviewerName  \\\n",
       "0   {'Size:': ' Big Boys', 'Color:': ' Blue/Orange'}     Tonya B.   \n",
       "1  {'Size:': ' Big Boys', 'Color:': ' Black (3746...     Tonya B.   \n",
       "2  {'Size:': ' Big Boys', 'Color:': ' Blue/Gray L...     Tonya B.   \n",
       "3  {'Size:': ' Big Boys', 'Color:': ' Blue (37867...     Tonya B.   \n",
       "4     {'Size:': ' Big Boys', 'Color:': ' Blue/Pink'}     Tonya B.   \n",
       "\n",
       "                 reviewText     summary  unixReviewTime  vote image  \n",
       "0  Great product and price!  Five Stars      1441324800   NaN   NaN  \n",
       "1  Great product and price!  Five Stars      1441324800   NaN   NaN  \n",
       "2  Great product and price!  Five Stars      1441324800   NaN   NaN  \n",
       "3  Great product and price!  Five Stars      1441324800   NaN   NaN  \n",
       "4  Great product and price!  Five Stars      1441324800   NaN   NaN  "
      ]
     },
     "execution_count": 3,
     "metadata": {},
     "output_type": "execute_result"
    }
   ],
   "source": [
    "df.head()"
   ]
  },
  {
   "cell_type": "markdown",
   "metadata": {},
   "source": [
    "# Dataset Exploration - Phase 1"
   ]
  },
  {
   "cell_type": "markdown",
   "metadata": {},
   "source": [
    "#####  a. Counts and averages."
   ]
  },
  {
   "cell_type": "code",
   "execution_count": 4,
   "metadata": {},
   "outputs": [],
   "source": [
    "# This will get an overview of the dataset's scope, including how many unique products are covered using asin (Amazon Standard Identification Number) as well as the reviewer communities size\n",
    "total_reviews = len(df)                     \n",
    "unique_products = df['asin'].nunique()\n",
    "unique_reviewers = df['reviewerID'].nunique()"
   ]
  },
  {
   "cell_type": "code",
   "execution_count": 5,
   "metadata": {},
   "outputs": [],
   "source": [
    "# averages will help us get an early indication of positive or negative feedback on products \n",
    "# as well as let us know if the dataset is dominated by a very few popular products or if it is more evenly distributed\n",
    "average_rating = df['overall'].mean()\n",
    "average_review_length = df['reviewText'].str.len().mean()\n",
    "average_reviews_per_product = total_reviews / unique_products\n",
    "average_reviews_per_reviewer = total_reviews / unique_reviewers"
   ]
  },
  {
   "cell_type": "code",
   "execution_count": 6,
   "metadata": {},
   "outputs": [
    {
     "name": "stdout",
     "output_type": "stream",
     "text": [
      "Total number of reviews: 3176\n",
      "Total number of unique products: 31\n",
      "Total number of unique reviewers: 406\n",
      "Average rating: 4.40\n",
      "Average review length: 131.78 characters\n",
      "Average number of reviews per product: 102.45\n",
      "Average number of reviews per reviewer: 7.82\n"
     ]
    }
   ],
   "source": [
    "# Print the results\n",
    "print(f\"Total number of reviews: {total_reviews}\")\n",
    "print(f\"Total number of unique products: {unique_products}\")\n",
    "print(f\"Total number of unique reviewers: {unique_reviewers}\")\n",
    "print(f\"Average rating: {average_rating:.2f}\")\n",
    "print(f\"Average review length: {average_review_length:.2f} characters\")\n",
    "print(f\"Average number of reviews per product: {average_reviews_per_product:.2f}\")\n",
    "print(f\"Average number of reviews per reviewer: {average_reviews_per_reviewer:.2f}\")"
   ]
  },
  {
   "cell_type": "markdown",
   "metadata": {},
   "source": [
    "##### b. Distribution of the number of reviews across products"
   ]
  },
  {
   "cell_type": "code",
   "execution_count": 7,
   "metadata": {},
   "outputs": [
    {
     "data": {
      "image/png": "[encoded data removed]",
      "text/plain": [
       "<Figure size 1000x600 with 1 Axes>"
      ]
     },
     "metadata": {},
     "output_type": "display_data"
    }
   ],
   "source": [
    "df['asin'].value_counts().plot(kind='bar', figsize=(10, 6))\n",
    "plt.xlabel('Product ID (ASIN)')\n",
    "plt.ylabel('Number of Reviews')\n",
    "plt.title('Distribution of Reviews Across Products')\n",
    "plt.show()\n"
   ]
  },
  {
   "cell_type": "markdown",
   "metadata": {},
   "source": [
    "##### b. Distribution of the number of reviews across products\n",
    "##### c. Distribution of the number of reviews per product\n",
    "Someone please correct me if im wrong, but b & c are the same ask, just worded differently"
   ]
  },
  {
   "cell_type": "code",
   "execution_count": 8,
   "metadata": {},
   "outputs": [
    {
     "data": {
      "image/png": "[encoded data removed]",
      "text/plain": [
       "<Figure size 1500x600 with 2 Axes>"
      ]
     },
     "metadata": {},
     "output_type": "display_data"
    }
   ],
   "source": [
    "# claculate reviews per product\n",
    "reviews_per_product = df.groupby('asin')['reviewerID'].count()\n",
    "\n",
    "# set up the matplotlib figure and axes\n",
    "fig, (ax1, ax2) = plt.subplots(1, 2, figsize=(15, 6))\n",
    "\n",
    "# regular scale hist\n",
    "ax1.hist(reviews_per_product, bins=50, color='skyblue', edgecolor='black')\n",
    "ax1.set_title('Histogram of Reviews per Product')\n",
    "ax1.set_xlabel('Number of Reviews')\n",
    "ax1.set_ylabel('Number of Products')\n",
    "\n",
    "# log scale - This will be more meaningful due to the skewness of the data\n",
    "ax2.hist(reviews_per_product, bins=50, color='skyblue', edgecolor='black', log=True)\n",
    "ax2.set_title('Histogram of Reviews per Product (Log Scale)')\n",
    "ax2.set_xlabel('Number of Reviews')\n",
    "ax2.set_ylabel('Number of Products')\n",
    "ax2.set_xscale('log')\n",
    "\n",
    "plt.tight_layout()\n",
    "plt.show()"
   ]
  },
  {
   "cell_type": "markdown",
   "metadata": {},
   "source": [
    "Data is heavily skewed, with most products actually containing very few reviews. The scale is better analyzed from the plot on the right which plots the numbers on a logarithmic scale"
   ]
  },
  {
   "cell_type": "code",
   "execution_count": 9,
   "metadata": {},
   "outputs": [
    {
     "data": {
      "image/png": "[encoded data removed]",
      "text/plain": [
       "<Figure size 1000x600 with 1 Axes>"
      ]
     },
     "metadata": {},
     "output_type": "display_data"
    }
   ],
   "source": [
    "# LEts also check the boxplot - also on a log scale\n",
    "plt.figure(figsize=(10, 6))\n",
    "plt.boxplot(reviews_per_product, vert=False)\n",
    "plt.xlabel('Number of Reviews')\n",
    "plt.title('Boxplot of Reviews per Product')\n",
    "plt.xscale('log')  # using a log scale due to the skewness of the data\n",
    "plt.show()\n"
   ]
  },
  {
   "cell_type": "markdown",
   "metadata": {},
   "source": [
    "##### d. Distribution of reviews per user"
   ]
  },
  {
   "cell_type": "code",
   "execution_count": 10,
   "metadata": {},
   "outputs": [
    {
     "data": {
      "image/png": "[encoded data removed]",
      "text/plain": [
       "<Figure size 1400x600 with 2 Axes>"
      ]
     },
     "metadata": {},
     "output_type": "display_data"
    }
   ],
   "source": [
    "# this can help us determine if a small group of highly active users dominates the dataset\n",
    "\n",
    "# calculate reviews per user\n",
    "reviews_per_user = df.groupby('reviewerID')['asin'].count()\n",
    "\n",
    "# calculate reviews per user\n",
    "reviews_per_user = df.groupby('reviewerID')['asin'].count()\n",
    "\n",
    "# set up the matplotlib figure\n",
    "fig, axes = plt.subplots(1, 2, figsize=(14, 6))\n",
    "\n",
    "# regular scale histogram\n",
    "axes[0].hist(reviews_per_user, bins=50)\n",
    "axes[0].set_title('Distribution of Reviews per User (Regular Scale)')\n",
    "axes[0].set_xlabel('Number of Reviews per User')\n",
    "axes[0].set_ylabel('Number of Users')\n",
    "\n",
    "# log scale\n",
    "reviews_per_user_log = reviews_per_user.copy()\n",
    "reviews_per_user_log[reviews_per_user_log == 0] = 0.1  # add a small value to avoid log(0) when there are users with 0 reviews in the adjusted data\n",
    "axes[1].hist(reviews_per_user_log, bins=50, log=True)\n",
    "axes[1].set_title('Distribution of Reviews per User (Log Scale)')\n",
    "axes[1].set_xlabel('Number of Reviews per User')\n",
    "axes[1].set_ylabel('Number of Users (Log Scale)')\n",
    "\n",
    "plt.tight_layout()\n",
    "plt.show()"
   ]
  },
  {
   "cell_type": "markdown",
   "metadata": {},
   "source": [
    "##### e. Review lengths and outliers\n",
    "##### f. Analyze lengths"
   ]
  },
  {
   "cell_type": "code",
   "execution_count": 11,
   "metadata": {},
   "outputs": [
    {
     "data": {
      "image/png": "[encoded data removed]",
      "text/plain": [
       "<Figure size 1400x1200 with 4 Axes>"
      ]
     },
     "metadata": {},
     "output_type": "display_data"
    }
   ],
   "source": [
    "# ensure there are no NaN values or zeros in review lengths for log scale so we dont have log(0)\n",
    "df['review_length'] = df['reviewText'].str.len().fillna(0)\n",
    "# shift the scale of the review lengths by 1 to perform log tranformation\n",
    "df['review_length_log'] = df['review_length'].apply(lambda x: np.log10(x + 1))  # log(0 + 1) = 0\n",
    "\n",
    "# set up the matplotlib figure\n",
    "fig, axes = plt.subplots(2, 2, figsize=(14, 12))\n",
    "\n",
    "# Regular scale histogram\n",
    "axes[0, 0].hist(df['review_length'], bins=100, color='skyblue')\n",
    "axes[0, 0].set_title('Histogram of Review Lengths (Regular Scale)')\n",
    "axes[0, 0].set_xlabel('Review Length (characters)')\n",
    "axes[0, 0].set_ylabel('Frequency')\n",
    "\n",
    "# Log scale histogram\n",
    "axes[0, 1].hist(df['review_length_log'], bins=100, color='lightgreen')\n",
    "axes[0, 1].set_title('Histogram of Review Lengths (Log Scale)')\n",
    "axes[0, 1].set_xlabel('Log of Review Length (characters)')\n",
    "axes[0, 1].set_ylabel('Frequency')\n",
    "# Adjusting x-axis to reflect powers of 10\n",
    "axes[0, 1].set_xticks([0, 1, 2, 3, 4])  # Corresponds to 1, 10, 100, 1000, 10000 characters\n",
    "axes[0, 1].set_xticklabels(['1', '10', '100', '1k', '10k'])\n",
    "\n",
    "# Regular scale boxplot\n",
    "axes[1, 0].boxplot(df['review_length'], vert=False, patch_artist=True)\n",
    "axes[1, 0].set_title('Boxplot of Review Lengths (Regular Scale)')\n",
    "axes[1, 0].set_xlabel('Review Length (characters)')\n",
    "\n",
    "# Log scale boxplot\n",
    "axes[1, 1].boxplot(df['review_length_log'], vert=False, patch_artist=True)\n",
    "axes[1, 1].set_title('Boxplot of Review Lengths (Log Scale)')\n",
    "axes[1, 1].set_xlabel('Log of Review Length (characters)')\n",
    "# Adjusting x-axis for the boxplot as well\n",
    "axes[1, 1].set_xticks([0, 1, 2, 3, 4])\n",
    "axes[1, 1].set_xticklabels(['1', '10', '100', '1k', '10k'])\n",
    "\n",
    "plt.tight_layout()\n",
    "plt.show()"
   ]
  },
  {
   "cell_type": "markdown",
   "metadata": {},
   "source": [
    "##### g. Check for duplicates\n",
    "We will check for exact dupes and near dupes\\\n",
    "\\\n",
    "Exact dupes will be rows where every piece of metedata is identical\\\n",
    "Near dupes might occur when the same review is posted multiple times with slight variations, such as timestamps or minor edits. This can be challenging to find, but we will try."
   ]
  },
  {
   "cell_type": "code",
   "execution_count": 12,
   "metadata": {},
   "outputs": [],
   "source": [
    "# # check for exact duplicates\n",
    "# exact_duplicates = df.duplicated(keep=False)  # 'keep=False' marks all duplicates as True\n",
    "\n",
    "# # count exact duplicates\n",
    "# exact_duplicates_count = exact_duplicates.sum()\n",
    "\n",
    "# # display duplicate rows\n",
    "# print(df[exact_duplicates])\n",
    "\n",
    "# # removing exact duplicates\n",
    "# df_no_exact_duplicates = df.drop_duplicates()\n",
    "\n",
    "# # print the number of duplicates removed\n",
    "# print(f\"Exact duplicates found and removed: {exact_duplicates_count}\")"
   ]
  },
  {
   "cell_type": "markdown",
   "metadata": {},
   "source": [
    "The above cell failed because there were dictionaries detected as values in some of the columns"
   ]
  },
  {
   "cell_type": "code",
   "execution_count": 13,
   "metadata": {},
   "outputs": [
    {
     "name": "stdout",
     "output_type": "stream",
     "text": [
      "Columns containing dictionaries: ['style']\n"
     ]
    }
   ],
   "source": [
    "# initialize an empty list to hold the names of columns containing dictionaries\n",
    "columns_with_dicts = []\n",
    "\n",
    "# check each column for dictionary data types\n",
    "for column in df.columns:\n",
    "    # check if any element in the column is a dictionary\n",
    "    if any(isinstance(x, dict) for x in df[column].dropna()):\n",
    "        columns_with_dicts.append(column)\n",
    "\n",
    "# print out the columns that contain dictionaries\n",
    "print(\"Columns containing dictionaries:\", columns_with_dicts)"
   ]
  },
  {
   "cell_type": "markdown",
   "metadata": {},
   "source": [
    "Images were also found to contain lists"
   ]
  },
  {
   "cell_type": "code",
   "execution_count": 14,
   "metadata": {},
   "outputs": [
    {
     "name": "stdout",
     "output_type": "stream",
     "text": [
      "Exact duplicates found and removed: 128\n"
     ]
    }
   ],
   "source": [
    "# convert dictionary columns to string for duplication check\n",
    "df['style'] = df['style'].apply(lambda x: str(x) if isinstance(x, dict) else x) # converts dictionaries to str\n",
    "df['image'] = df['image'].apply(lambda x: str(x) if isinstance(x, list) else x) # converts lists to str\n",
    "\n",
    "# check for dupes across all columns\n",
    "exact_duplicates = df.duplicated(keep=False)\n",
    "exact_duplicates_count = exact_duplicates.sum()\n",
    "df_no_exact_duplicates = df.drop_duplicates()\n",
    "print(f\"Exact duplicates found and removed: {exact_duplicates_count}\")"
   ]
  },
  {
   "cell_type": "markdown",
   "metadata": {},
   "source": [
    "for near dupes a simple approach is to compare the data after normalizing (i.e. lowercasing, removing punctuation, etc.)\\\n",
    "A more robust approach would be to vectorize and use similarity measures (cosine), but we will leave that as a maybe for now."
   ]
  },
  {
   "cell_type": "code",
   "execution_count": 15,
   "metadata": {},
   "outputs": [
    {
     "name": "stdout",
     "output_type": "stream",
     "text": [
      "Near duplicates found: 171\n"
     ]
    }
   ],
   "source": [
    "# normalize text simple version\n",
    "df['reviewText_normalized'] = df['reviewText'].str.lower().str.replace(r'\\W', '', regex=True)\n",
    "\n",
    "# check for duplicates based on 'reviewerID', 'asin', and the normalized review text\n",
    "near_duplicates = df.duplicated(subset=['reviewerID', 'asin', 'reviewText_normalized'], keep=False)\n",
    "\n",
    "# count near duplicates\n",
    "near_duplicates_count = near_duplicates.sum()\n",
    "\n",
    "# print the number of near duplicates found - will need to decide what to do with these\n",
    "print(f\"Near duplicates found: {near_duplicates_count}\")"
   ]
  },
  {
   "cell_type": "markdown",
   "metadata": {},
   "source": [
    "This will need more exploration and analysis before we axe all of these values from the dataset, but at least our near dupe detector found quite a few records."
   ]
  },
  {
   "cell_type": "code",
   "execution_count": 16,
   "metadata": {},
   "outputs": [],
   "source": [
    "max_product_reviews = df['asin'].value_counts().max()\n",
    "min_product_reviews = df['asin'].value_counts().min()\n",
    "max_user_reviews = df['reviewerID'].value_counts().max()\n",
    "min_user_reviews = df['reviewerID'].value_counts().min()"
   ]
  },
  {
   "cell_type": "code",
   "execution_count": 17,
   "metadata": {},
   "outputs": [
    {
     "name": "stdout",
     "output_type": "stream",
     "text": [
      "Maximum number of reviews for a single product: 377\n",
      "Minimum number of reviews for a single product: 1\n",
      "Maximum number of reviews written by a single user: 16\n",
      "Minimum number of reviews written by a single user: 4\n"
     ]
    }
   ],
   "source": [
    "print(f\"Maximum number of reviews for a single product: {max_product_reviews}\")\n",
    "print(f\"Minimum number of reviews for a single product: {min_product_reviews}\")\n",
    "print(\n",
    "    f\"Maximum number of reviews written by a single user: {max_user_reviews}\")\n",
    "print(\n",
    "    f\"Minimum number of reviews written by a single user: {min_user_reviews}\")"
   ]
  },
  {
   "cell_type": "code",
   "execution_count": 18,
   "metadata": {},
   "outputs": [
    {
     "data": {
      "image/png": "[encoded data removed]",
      "text/plain": [
       "<Figure size 640x480 with 1 Axes>"
      ]
     },
     "metadata": {},
     "output_type": "display_data"
    }
   ],
   "source": [
    "# Visualize the distribution of ratings\n",
    "ratings_counts = df['overall'].value_counts()\n",
    "plt.bar(ratings_counts.index, ratings_counts.values)\n",
    "plt.xlabel(\"Rating\")\n",
    "plt.ylabel(\"Number of reviews\")\n",
    "plt.title(\"Distribution of ratings\")\n",
    "plt.show()"
   ]
  },
  {
   "cell_type": "markdown",
   "metadata": {},
   "source": [
    "a. Label your data based on the value of “rating of the product” i.e. as follows:\\\n",
    "i. Ratings 4,5: Positive\\\n",
    "ii. Rating 3: Neutral\\\n",
    "iii. Ratings 1,2: Negative"
   ]
  },
  {
   "cell_type": "code",
   "execution_count": 19,
   "metadata": {},
   "outputs": [],
   "source": [
    "def lable_ratings(data):\n",
    "    if data['overall'] >= 4:\n",
    "        data['ratings'] = 'Positive'\n",
    "    elif data['overall'] <= 2:\n",
    "        data['ratings'] = 'Negative'\n",
    "    else:\n",
    "        data['ratings'] = 'Neutral'\n",
    "    return data\n",
    "\n",
    "\n",
    "df = df.apply(lable_ratings, axis=1)"
   ]
  },
  {
   "cell_type": "code",
   "execution_count": 20,
   "metadata": {},
   "outputs": [
    {
     "name": "stderr",
     "output_type": "stream",
     "text": [
      "C:\\Users\\Mark\\AppData\\Local\\Temp\\ipykernel_18896\\130728020.py:6: FutureWarning: \n",
      "\n",
      "Passing `palette` without assigning `hue` is deprecated and will be removed in v0.14.0. Assign the `x` variable to `hue` and set `legend=False` for the same effect.\n",
      "\n",
      "  sns.barplot(x=sentiment_counts.index, y=sentiment_counts.values, palette='viridis')\n"
     ]
    },
    {
     "data": {
      "image/png": "[encoded data removed]",
      "text/plain": [
       "<Figure size 800x500 with 1 Axes>"
      ]
     },
     "metadata": {},
     "output_type": "display_data"
    }
   ],
   "source": [
    "# get the sentimetn distribution\n",
    "sentiment_counts = df['ratings'].value_counts()\n",
    "\n",
    "# bar chart\n",
    "plt.figure(figsize=(8, 5))\n",
    "sns.barplot(x=sentiment_counts.index, y=sentiment_counts.values, palette='viridis')\n",
    "plt.xlabel('Sentiment')\n",
    "plt.ylabel('Number of Reviews')\n",
    "plt.title('Distribution of Review Sentiments')\n",
    "plt.show()"
   ]
  },
  {
   "cell_type": "code",
   "execution_count": 21,
   "metadata": {},
   "outputs": [],
   "source": [
    "year = df['reviewTime'].str.split(\",\", n=1, expand=True)\n",
    "df['year'] = year[1]"
   ]
  },
  {
   "cell_type": "code",
   "execution_count": 22,
   "metadata": {},
   "outputs": [
    {
     "data": {
      "text/plain": [
       "year\n",
       "2017    1659\n",
       "2016     895\n",
       "2018     556\n",
       "2015      43\n",
       "2014      10\n",
       "2010       5\n",
       "2012       4\n",
       "2009       4\n",
       "Name: count, dtype: int64"
      ]
     },
     "execution_count": 22,
     "metadata": {},
     "output_type": "execute_result"
    }
   ],
   "source": [
    "df['year'].value_counts()"
   ]
  },
  {
   "cell_type": "code",
   "execution_count": 23,
   "metadata": {},
   "outputs": [],
   "source": [
    "# Concatenating review text and summary\n",
    "df['fullText'] = df['reviewText'].str.cat(df['summary'], sep=' ')"
   ]
  },
  {
   "cell_type": "markdown",
   "metadata": {},
   "source": [
    "b. Choose the appropriate columns for your sentiment analyzer. (Give this some\n",
    "thought) and mention in your report why you chose each column."
   ]
  },
  {
   "cell_type": "markdown",
   "metadata": {},
   "source": [
    "Rationale for dropping columns:\n",
    "* Style - Although it provides details about the product variant (size, color), it doesn't contribute to sentiment understanding\n",
    "* Vote - This might indicate the helpfulness of a review but doesn't directly correlate to the sentiment expressed by the user\n",
    "* Image - Presence of an image is more related to the review's engagement rather than the sentiment\n",
    "* UnixReviewTime/ ReviewTime - These columns do not contribute to overall sentiment\n",
    "* ReviewerName - Not relevant for analyzing sentiment"
   ]
  },
  {
   "cell_type": "code",
   "execution_count": 24,
   "metadata": {},
   "outputs": [
    {
     "data": {
      "text/html": [
       "<div>\n",
       "<style scoped>\n",
       "    .dataframe tbody tr th:only-of-type {\n",
       "        vertical-align: middle;\n",
       "    }\n",
       "\n",
       "    .dataframe tbody tr th {\n",
       "        vertical-align: top;\n",
       "    }\n",
       "\n",
       "    .dataframe thead th {\n",
       "        text-align: right;\n",
       "    }\n",
       "</style>\n",
       "<table border=\"1\" class=\"dataframe\">\n",
       "  <thead>\n",
       "    <tr style=\"text-align: right;\">\n",
       "      <th></th>\n",
       "      <th>overall</th>\n",
       "      <th>verified</th>\n",
       "      <th>reviewerID</th>\n",
       "      <th>asin</th>\n",
       "      <th>ratings</th>\n",
       "      <th>year</th>\n",
       "      <th>fullText</th>\n",
       "    </tr>\n",
       "  </thead>\n",
       "  <tbody>\n",
       "    <tr>\n",
       "      <th>0</th>\n",
       "      <td>5</td>\n",
       "      <td>True</td>\n",
       "      <td>ALJ66O1Y6SLHA</td>\n",
       "      <td>B000K2PJ4K</td>\n",
       "      <td>Positive</td>\n",
       "      <td>2015</td>\n",
       "      <td>Great product and price! Five Stars</td>\n",
       "    </tr>\n",
       "    <tr>\n",
       "      <th>1</th>\n",
       "      <td>5</td>\n",
       "      <td>True</td>\n",
       "      <td>ALJ66O1Y6SLHA</td>\n",
       "      <td>B000K2PJ4K</td>\n",
       "      <td>Positive</td>\n",
       "      <td>2015</td>\n",
       "      <td>Great product and price! Five Stars</td>\n",
       "    </tr>\n",
       "    <tr>\n",
       "      <th>2</th>\n",
       "      <td>5</td>\n",
       "      <td>True</td>\n",
       "      <td>ALJ66O1Y6SLHA</td>\n",
       "      <td>B000K2PJ4K</td>\n",
       "      <td>Positive</td>\n",
       "      <td>2015</td>\n",
       "      <td>Great product and price! Five Stars</td>\n",
       "    </tr>\n",
       "    <tr>\n",
       "      <th>3</th>\n",
       "      <td>5</td>\n",
       "      <td>True</td>\n",
       "      <td>ALJ66O1Y6SLHA</td>\n",
       "      <td>B000K2PJ4K</td>\n",
       "      <td>Positive</td>\n",
       "      <td>2015</td>\n",
       "      <td>Great product and price! Five Stars</td>\n",
       "    </tr>\n",
       "    <tr>\n",
       "      <th>4</th>\n",
       "      <td>5</td>\n",
       "      <td>True</td>\n",
       "      <td>ALJ66O1Y6SLHA</td>\n",
       "      <td>B000K2PJ4K</td>\n",
       "      <td>Positive</td>\n",
       "      <td>2015</td>\n",
       "      <td>Great product and price! Five Stars</td>\n",
       "    </tr>\n",
       "  </tbody>\n",
       "</table>\n",
       "</div>"
      ],
      "text/plain": [
       "   overall  verified     reviewerID        asin   ratings   year  \\\n",
       "0        5      True  ALJ66O1Y6SLHA  B000K2PJ4K  Positive   2015   \n",
       "1        5      True  ALJ66O1Y6SLHA  B000K2PJ4K  Positive   2015   \n",
       "2        5      True  ALJ66O1Y6SLHA  B000K2PJ4K  Positive   2015   \n",
       "3        5      True  ALJ66O1Y6SLHA  B000K2PJ4K  Positive   2015   \n",
       "4        5      True  ALJ66O1Y6SLHA  B000K2PJ4K  Positive   2015   \n",
       "\n",
       "                              fullText  \n",
       "0  Great product and price! Five Stars  \n",
       "1  Great product and price! Five Stars  \n",
       "2  Great product and price! Five Stars  \n",
       "3  Great product and price! Five Stars  \n",
       "4  Great product and price! Five Stars  "
      ]
     },
     "execution_count": 24,
     "metadata": {},
     "output_type": "execute_result"
    }
   ],
   "source": [
    "# # Removing unnecessary columns\n",
    "df = df.drop(['style', 'vote', 'image', 'summary',\n",
    "             'unixReviewTime', 'reviewTime', 'reviewerName', \n",
    "             'reviewText_normalized', 'review_length', 'review_length_log', 'reviewText'], axis=1)\n",
    "df.head()"
   ]
  },
  {
   "cell_type": "markdown",
   "metadata": {},
   "source": [
    "Rationale for kept columns:\n",
    "* Overall - This is basically the rating and could serve as a label for sentiment. We are encoding it to a ratings column, but will keep it until we are sure we no longer need it.\n",
    "* Verified - Whether or not the purchase was verified, this is potentially used to filter or weight reviews.\n",
    "* ReviewerID - Useful for identifying unique users, which might help in analyzing sentiment across different user segments.\n",
    "* ASIN - The product identifier, useful for analyzing sentiment per product.\n",
    "* ReviewText - the main source of textual data for sentiment analysis"
   ]
  },
  {
   "cell_type": "code",
   "execution_count": 25,
   "metadata": {},
   "outputs": [
    {
     "name": "stdout",
     "output_type": "stream",
     "text": [
      "Important columns to keep:\n",
      " ['overall', 'verified', 'reviewerID', 'asin', 'ratings', 'year', 'fullText']\n"
     ]
    }
   ],
   "source": [
    "print(f'Important columns to keep:\\n {df.columns.tolist()}')"
   ]
  },
  {
   "cell_type": "code",
   "execution_count": 26,
   "metadata": {},
   "outputs": [
    {
     "data": {
      "image/png": "[encoded data removed]",
      "text/plain": [
       "<Figure size 640x480 with 1 Axes>"
      ]
     },
     "metadata": {},
     "output_type": "display_data"
    }
   ],
   "source": [
    "df.groupby(['year', 'ratings'])['ratings'].count().unstack().plot(legend=True)\n",
    "plt.title('Year and Sentiment count')\n",
    "plt.xlabel('Year')\n",
    "plt.ylabel('Sentiment count')\n",
    "plt.show()"
   ]
  },
  {
   "cell_type": "markdown",
   "metadata": {},
   "source": [
    "c. Check for outliers"
   ]
  },
  {
   "cell_type": "code",
   "execution_count": 27,
   "metadata": {},
   "outputs": [
    {
     "name": "stdout",
     "output_type": "stream",
     "text": [
      "count    3176.000000\n",
      "mean        4.404282\n",
      "std         1.034964\n",
      "min         1.000000\n",
      "25%         4.000000\n",
      "50%         5.000000\n",
      "75%         5.000000\n",
      "max         5.000000\n",
      "Name: overall, dtype: float64\n"
     ]
    },
    {
     "data": {
      "image/png": "[encoded data removed]",
      "text/plain": [
       "<Figure size 640x480 with 1 Axes>"
      ]
     },
     "metadata": {},
     "output_type": "display_data"
    }
   ],
   "source": [
    "# descriptive statistics for 'overall' ratings\n",
    "print(df['overall'].describe())\n",
    "\n",
    "# box plot for 'overall' ratings\n",
    "plt.boxplot(df['overall'])\n",
    "plt.title('Box Plot of Overall Ratings')\n",
    "plt.xlabel('Overall Ratings')\n",
    "plt.ylabel('Rating')\n",
    "plt.show()"
   ]
  },
  {
   "cell_type": "markdown",
   "metadata": {},
   "source": [
    "Other methods of outlier detection:\n",
    "1. Inter-Quartile Range (IQR) method: Measures outliers based on their interquartile range, which is the difference between the 75th percentile and the 25th percentile. Outliers in this method are usually defined as data points that fall below Q1 - 1.5 * IQR or above Q3 + 1.5 * IQR.\n",
    "2. Boxplot method: This is closely related to the IQR method, just displayed visually like we did above.\n",
    "3. DBSCAN (Density-Based Spatial Clustering of Applications with Noise): This is a clustering method that separates high-density areas from low-desnity areas, treating the low-density points as outliers. \n",
    "4. Z - score is a mathematical approach to detecting outliers. How it works is it claculates the number of standard deviations each data point is away from the mean.\n",
    "typically a z-score above 3 or below -3 is considered an outlier.\\\n",
    "\\\n",
    "Since IQR method was examined above visually with a boxplot, why not use DBSCAN?\\\n",
    "DBSCAN can be a robust outlier detection method, but it does have its limitations. Beyond carrying some decent overhead to setup, it will usually be an iterative process and require hyperparameter tuning. Also, it has the limitation of not being able to handle clusters of varying densities."
   ]
  },
  {
   "cell_type": "markdown",
   "metadata": {},
   "source": [
    "Why z-score?\\\n",
    "Z-score is straightforward and efficient. It excels with data that follows a normal distrubtion, but is versatile enough to be used as a good starting point with almost any data, provided there is an understanding of the above limitation. "
   ]
  },
  {
   "cell_type": "code",
   "execution_count": 28,
   "metadata": {},
   "outputs": [
    {
     "name": "stdout",
     "output_type": "stream",
     "text": [
      "Number of outliers based on Z-score:  117\n"
     ]
    }
   ],
   "source": [
    "# Calculate Z-scores of 'Overall' ratings\n",
    "df['overall_Z'] = np.abs((df['overall'] - df['overall'].mean()) / df['overall'].std())\n",
    "\n",
    "# Filter outliers based on Z-score\n",
    "outliers = df[df['overall_Z'] > 3]\n",
    "print(\"Number of outliers based on Z-score: \", len(outliers))"
   ]
  },
  {
   "cell_type": "markdown",
   "metadata": {},
   "source": [
    "3. Study the below three Lexicons packages and choose two for model building justify why\n",
    "you chose them:\\\n",
    "i. Valence Aware Dictionary and Sentiment Reasoner (VADR) you can find\n",
    "out more information here: https://github.com/cjhutto/vaderSentiment\\\n",
    "ii. TextBlob you can find out more information here:\n",
    "https://textblob.readthedocs.io/en/dev/quickstart.html\\\n",
    "iii. SENTIWORDNET you can find more information here:\n",
    "http://nmis.isti.cnr.it/sebastiani/Publications/LREC10.pdf"
   ]
  },
  {
   "cell_type": "markdown",
   "metadata": {},
   "source": [
    "We are choosing VADER and SENTIWORDNET\n",
    "\n",
    "Justification:\\\n",
    "VADER - VADER is well-suited for sentiment analysis on social media texts, product reviews and other online content.\\\n",
    "It does well in handling text with mixed sentiment (positive/negative), intensity (how positive or negative it is), as well as more nuanced understanding like slang, emojis, expressions and acronyms\\\n",
    "\\\n",
    "SENTIWORDNET - This has the ability to provide sentiment scores based on POS tags which allows for a more nuanced understanding of sentiment, especially useful for handling the complexity of language used on Amazon reviews.\\\n",
    "Handling POS tags will help in resolving abiguity."
   ]
  },
  {
   "cell_type": "code",
   "execution_count": 29,
   "metadata": {},
   "outputs": [
    {
     "name": "stdout",
     "output_type": "stream",
     "text": [
      "Text: I love this product!\n",
      "Scores: {'neg': 0.0, 'neu': 0.4, 'pos': 0.6, 'compound': 0.6696}\n",
      "\n",
      "Text: This is a bad product.\n",
      "Scores: {'neg': 0.467, 'neu': 0.533, 'pos': 0.0, 'compound': -0.5423}\n",
      "\n",
      "Text: It's okay, but not great.\n",
      "Scores: {'neg': 0.499, 'neu': 0.337, 'pos': 0.163, 'compound': -0.6112}\n",
      "\n"
     ]
    }
   ],
   "source": [
    "# VADER test - ** do a pip install vaderSentiment==3.3.2\n",
    "from vaderSentiment.vaderSentiment import SentimentIntensityAnalyzer\n",
    "analyzer = SentimentIntensityAnalyzer()\n",
    "\n",
    "texts = [\"I love this product!\", \"This is a bad product.\", \"It's okay, but not great.\"]\n",
    "\n",
    "for text in texts:\n",
    "    scores = analyzer.polarity_scores(text)\n",
    "    print(f\"Text: {text}\\nScores: {scores}\\n\")"
   ]
  },
  {
   "cell_type": "code",
   "execution_count": 30,
   "metadata": {},
   "outputs": [
    {
     "name": "stderr",
     "output_type": "stream",
     "text": [
      "[nltk_data] Downloading package sentiwordnet to\n",
      "[nltk_data]     C:\\Users\\Mark\\AppData\\Roaming\\nltk_data...\n",
      "[nltk_data]   Package sentiwordnet is already up-to-date!\n"
     ]
    },
    {
     "data": {
      "text/plain": [
       "True"
      ]
     },
     "execution_count": 30,
     "metadata": {},
     "output_type": "execute_result"
    }
   ],
   "source": [
    "# SENTIWORDNET - Have to pip install nltk first\n",
    "nltk.download('sentiwordnet')"
   ]
  },
  {
   "cell_type": "code",
   "execution_count": 31,
   "metadata": {},
   "outputs": [
    {
     "name": "stdout",
     "output_type": "stream",
     "text": [
      "Positive Score: 0.875\n",
      "Negative Score: 0.0\n",
      "Objective Score: 0.125\n"
     ]
    }
   ],
   "source": [
    "# example accessing sentiWordNet for a specific word\n",
    "# let's get sentiment scores for the word \"happy\" as an adjective\n",
    "happy_synsets = list(swn.senti_synsets('happy', 'a'))[0]\n",
    "\n",
    "print(f\"Positive Score: {happy_synsets.pos_score()}\")\n",
    "print(f\"Negative Score: {happy_synsets.neg_score()}\")\n",
    "print(f\"Objective Score: {happy_synsets.obj_score()}\")"
   ]
  },
  {
   "cell_type": "markdown",
   "metadata": {},
   "source": [
    "4. Pre-process your text as needed, justify each pre-processing step for each model you\n",
    "chose. (Note: take into account the findings of step #3 above)"
   ]
  },
  {
   "cell_type": "markdown",
   "metadata": {},
   "source": [
    "# Notes on rationale for preprocessing steps\n",
    "\n",
    "Given our choices of VADER and SENTIWORDNET, each of these lexical packages has different strengths and necessitate different pre-processing steps. Therefore we will first test and evalutate the data using each of these packages separately in parallel. If neither model yields acceptable performance, we may try a hybrid approach.\n",
    "\n",
    "For VADER:\n",
    "\n",
    "VADER is designed to work out-of-the-box with social media text, inclduing text that can come from product reviews, which may contain slang, unecessary capitalization, and emoticons. All of these nuances can be meaningful sentiment indicators.\n",
    "\n",
    "1. Minimal Preprocessing: Given that VADER is sensitive the nuances of text, we will avoid such practices as lowercasing, removing emoticons and altering pucntation.\\\n",
    "    Justification: Stripping these aspects away from the text may diminish the models performance.\n",
    "\n",
    "For SENTIWORDNET:\n",
    "\n",
    "SENTIWORDNET requires a bit more sphistication when it comes pre-processing. One specific thing we will need to do is POS tagging, to map each word to its correct sentiment score based on context.\n",
    "\n",
    "1. Tokenization - splitting the text into individual words (tokens) to prepare for future pre-processing\\\n",
    "    Justification - Tokenization is necessary for POS tagging.\\\n",
    "\n",
    "2. Normalization - This will entail converting all text to lowercase and (probably) revoming some punctuation (unless something is deemed meaningful).\\\n",
    "    Justification - Consistency is important for matching tokens in the lexicon.\\\n",
    "\n",
    "3. POS Tagging - this is where we will asssign a part of speech (POS) tag. \\\n",
    "    Jsutification - This is important since WordNet's sentiment scores are POS sepcific.\\\n",
    "    \n",
    "4. Lemmatization (maybe) - This involves reducing words to their root dictionary form.\\\n",
    "    Justificaiton - this is listed now as a maybe since it may not be necessary. In this scenario it would be more about enhacing the POS tagging and lexicon matching for words taht appear in different forms. This will indirectly help with model performance if it is flagged as an issue.\n",
    "\n",
    "5. Stop Word Removal - removes english stop words from the text.\n",
    "    Justification - Stop words do not generally carry sentiment.\n",
    "\n",
    "6. Handling Sepcial Characters and Numbers - Removing or normalizing special characters\n",
    "   Justificaiton - Special characters and numbers will liekly not match with any sentiment scores.\n"
   ]
  },
  {
   "cell_type": "code",
   "execution_count": 32,
   "metadata": {},
   "outputs": [
    {
     "name": "stdout",
     "output_type": "stream",
     "text": [
      "      overall  verified      reviewerID        asin   ratings   year fullText  \\\n",
      "172         5      True  A1CKPC88NHMYGR  B001IKJOLW  Positive   2018      NaN   \n",
      "285         5      True   AN5PL4KUZS35E  B001IKJOLW  Positive   2017      NaN   \n",
      "535         5      True  A1CKPC88NHMYGR  B0058YEJ5K  Positive   2018      NaN   \n",
      "648         5      True   AN5PL4KUZS35E  B0058YEJ5K  Positive   2017      NaN   \n",
      "890         5      True  A1CKPC88NHMYGR  B0014F7B98  Positive   2018      NaN   \n",
      "1003        5      True   AN5PL4KUZS35E  B0014F7B98  Positive   2017      NaN   \n",
      "1258        5      True  A1CKPC88NHMYGR  B009MA34NY  Positive   2018      NaN   \n",
      "1371        5      True   AN5PL4KUZS35E  B009MA34NY  Positive   2017      NaN   \n",
      "1628        5      True  A1CKPC88NHMYGR  B0092UF54A  Positive   2018      NaN   \n",
      "1740        5      True   AN5PL4KUZS35E  B0092UF54A  Positive   2017      NaN   \n",
      "1998        5      True  A1CKPC88NHMYGR  B005AGO4LU  Positive   2018      NaN   \n",
      "2110        5      True   AN5PL4KUZS35E  B005AGO4LU  Positive   2017      NaN   \n",
      "2402        5      True  A1CKPC88NHMYGR  B010RRWKT4  Positive   2018      NaN   \n",
      "2515        5      True   AN5PL4KUZS35E  B010RRWKT4  Positive   2017      NaN   \n",
      "2778        5      True  A1CKPC88NHMYGR  B014IBJKNO  Positive   2018      NaN   \n",
      "2889        5      True   AN5PL4KUZS35E  B014IBJKNO  Positive   2017      NaN   \n",
      "\n",
      "      overall_Z  \n",
      "172    0.575593  \n",
      "285    0.575593  \n",
      "535    0.575593  \n",
      "648    0.575593  \n",
      "890    0.575593  \n",
      "1003   0.575593  \n",
      "1258   0.575593  \n",
      "1371   0.575593  \n",
      "1628   0.575593  \n",
      "1740   0.575593  \n",
      "1998   0.575593  \n",
      "2110   0.575593  \n",
      "2402   0.575593  \n",
      "2515   0.575593  \n",
      "2778   0.575593  \n",
      "2889   0.575593  \n"
     ]
    }
   ],
   "source": [
    "#Find Rows with invalid Full Text Columns\n",
    "invalid_rows = df[df.isnull().any(axis=1)]\n",
    "print(invalid_rows)\n",
    "\n",
    "# Drop those columns\n",
    "df.dropna(subset=['fullText'], inplace=True)"
   ]
  },
  {
   "cell_type": "code",
   "execution_count": 33,
   "metadata": {},
   "outputs": [
    {
     "name": "stderr",
     "output_type": "stream",
     "text": [
      "[nltk_data] Downloading package punkt to\n",
      "[nltk_data]     C:\\Users\\Mark\\AppData\\Roaming\\nltk_data...\n",
      "[nltk_data]   Package punkt is already up-to-date!\n",
      "[nltk_data] Downloading package averaged_perceptron_tagger to\n",
      "[nltk_data]     C:\\Users\\Mark\\AppData\\Roaming\\nltk_data...\n",
      "[nltk_data]   Package averaged_perceptron_tagger is already up-to-\n",
      "[nltk_data]       date!\n",
      "[nltk_data] Downloading package wordnet to\n",
      "[nltk_data]     C:\\Users\\Mark\\AppData\\Roaming\\nltk_data...\n",
      "[nltk_data]   Package wordnet is already up-to-date!\n",
      "[nltk_data] Downloading package stopwords to\n",
      "[nltk_data]     C:\\Users\\Mark\\AppData\\Roaming\\nltk_data...\n",
      "[nltk_data]   Package stopwords is already up-to-date!\n"
     ]
    },
    {
     "name": "stdout",
     "output_type": "stream",
     "text": [
      "0                           [great, product, price, star]\n",
      "1                           [great, product, price, star]\n",
      "2                           [great, product, price, star]\n",
      "3                           [great, product, price, star]\n",
      "4                           [great, product, price, star]\n",
      "                              ...                        \n",
      "3171                                 [perfect, fit, star]\n",
      "3172              [favorite, cross, trainer, comfortable]\n",
      "3173                           [love, fit, perfect, star]\n",
      "3174    [favorite, nike, shoe, ever, flex, sole, excel...\n",
      "3175                    [wear, everyday, work, gym, star]\n",
      "Name: filtered_tokens, Length: 3160, dtype: object\n"
     ]
    }
   ],
   "source": [
    "import string\n",
    "# Download necessary resources\n",
    "nltk.download('punkt')\n",
    "nltk.download('averaged_perceptron_tagger')\n",
    "nltk.download('wordnet')\n",
    "nltk.download('stopwords')\n",
    "\n",
    "# Helper function to map POS tags to WordNet POS tags\n",
    "def get_wordnet_pos(treebank_tag):\n",
    "    if treebank_tag.startswith('J'):\n",
    "        return 'a'  # Adjective\n",
    "    elif treebank_tag.startswith('V'):\n",
    "        return 'v'  # Verb\n",
    "    elif treebank_tag.startswith('N'):\n",
    "        return 'n'  # Noun\n",
    "    elif treebank_tag.startswith('R'):\n",
    "        return 'r'  # Adverb\n",
    "    else:\n",
    "        return None\n",
    "\n",
    "\n",
    "# Tokenization\n",
    "df['tokens'] = df['fullText'].apply(word_tokenize)\n",
    "\n",
    "# Normalization\n",
    "df['tokens'] = df['tokens'].apply(lambda x: [word.lower() for word in x if word not in string.punctuation])\n",
    "\n",
    "# Stop Word Removal\n",
    "stop_words = set(stopwords.words('english'))\n",
    "df['stopwords'] = df['tokens'].apply(lambda x: [word for word in x if word not in stop_words])\n",
    "\n",
    "# Handling Special Characters and Numbers \n",
    "df['stopwords'] = df['stopwords'].apply(lambda x: [word for word in x if word.isalpha()])\n",
    "\n",
    "# POS Tagging\n",
    "df['pos_tags'] = df['stopwords'].apply(nltk.pos_tag)\n",
    "\n",
    "# Lemmatization\n",
    "lemmatizer = WordNetLemmatizer()\n",
    "df['filtered_tokens'] = df['pos_tags'].apply(lambda x: [lemmatizer.lemmatize(word, pos=get_wordnet_pos(\n",
    "    pos_tag)) for word, pos_tag in x if get_wordnet_pos(pos_tag) is not None])\n",
    "\n",
    "\n",
    "# Print the preprocessed data\n",
    "print(df['filtered_tokens'])"
   ]
  },
  {
   "cell_type": "code",
   "execution_count": 34,
   "metadata": {},
   "outputs": [],
   "source": [
    "random_reviews = df.sample(n=1000, random_state=42)\n",
    "\n",
    "# seprate out the random samples and drop from the original data frame\n",
    "sampled_indices = random_reviews.index\n",
    "remaining_reviews = df.drop(sampled_indices)"
   ]
  },
  {
   "cell_type": "code",
   "execution_count": 35,
   "metadata": {},
   "outputs": [
    {
     "data": {
      "text/plain": [
       "overall            1000\n",
       "verified           1000\n",
       "reviewerID         1000\n",
       "asin               1000\n",
       "ratings            1000\n",
       "year               1000\n",
       "fullText           1000\n",
       "overall_Z          1000\n",
       "tokens             1000\n",
       "stopwords          1000\n",
       "pos_tags           1000\n",
       "filtered_tokens    1000\n",
       "dtype: int64"
      ]
     },
     "execution_count": 35,
     "metadata": {},
     "output_type": "execute_result"
    }
   ],
   "source": [
    "random_reviews.count()\n"
   ]
  },
  {
   "cell_type": "code",
   "execution_count": 36,
   "metadata": {},
   "outputs": [
    {
     "name": "stdout",
     "output_type": "stream",
     "text": [
      "2477    Positive\n",
      "2523    Positive\n",
      "1058    Positive\n",
      "1415    Positive\n",
      "3175     Neutral\n",
      "          ...   \n",
      "1422    Positive\n",
      "447     Positive\n",
      "620     Positive\n",
      "2650     Neutral\n",
      "2359    Positive\n",
      "Name: vader_sentiment_label, Length: 1000, dtype: object\n"
     ]
    }
   ],
   "source": [
    "# Initialize the VADER sentiment analyzer\n",
    "analyzer = SentimentIntensityAnalyzer()\n",
    "\n",
    "# Function to get sentiment scores using VADER\n",
    "def get_vader_sentiment(text):\n",
    "    scores = analyzer.polarity_scores(text)\n",
    "    compound_score = scores['compound']\n",
    "    if compound_score >= 0.05:\n",
    "        return 'Positive'\n",
    "    elif compound_score <= -0.05:\n",
    "        return 'Negative'\n",
    "    else:\n",
    "        return 'Neutral'\n",
    "\n",
    "# Apply VADER sentiment analysis to the pre-processed data\n",
    "random_reviews['vader_sentiment_label'] = random_reviews['fullText'].apply(lambda x: get_vader_sentiment(' '.join(x)))\n",
    "\n",
    "# Print the sentiment analysis results using VADER\n",
    "print(random_reviews['vader_sentiment_label'])\n",
    "\n",
    "\n"
   ]
  },
  {
   "cell_type": "code",
   "execution_count": 37,
   "metadata": {},
   "outputs": [
    {
     "name": "stdout",
     "output_type": "stream",
     "text": [
      "2477    [(buy, 0.1875, 0.0), (back, 0.0491, 0.0134), (...\n",
      "2523    [(long, 0.1146, 0.1562), (time, 0.0833, 0.0), ...\n",
      "1058    [(fast, 0.1, 0.0583), (shipping, 0.0, 0.0), (t...\n",
      "1415    [(love, 0.3875, 0.0125), (light, 0.1223, 0.111...\n",
      "3175    [(wear, 0.0208, 0.0729), (everyday, 0.3333, 0....\n",
      "                              ...                        \n",
      "1422    [(extremely, 0.3125, 0.0625), (well, 0.3542, 0...\n",
      "447     [(picky, 0.125, 0.125), (daughter, 0.0, 0.0), ...\n",
      "620     [(great, 0.2679, 0.0179), (shoe, 0.0, 0.0), (c...\n",
      "2650    [(wrong, 0.0577, 0.625), (shoe, 0.0, 0.0), (st...\n",
      "2359    [(look, 0.0536, 0.0446), (great, 0.2679, 0.017...\n",
      "Name: sentiwordnet_sentiment, Length: 1000, dtype: object\n"
     ]
    }
   ],
   "source": [
    "# Function to get sentiment scores using SentiWordNet\n",
    "def get_sentiwordnet_sentiment(tokens):\n",
    "    sentiment_scores = []\n",
    "    for token in tokens:\n",
    "        synsets = list(swn.senti_synsets(token))\n",
    "        if synsets:\n",
    "            # Take the average of all the sentiment scores for the token\n",
    "            pos_score = round(sum([synset.pos_score() for synset in synsets]) / len(synsets), 4)\n",
    "            neg_score = round(sum([synset.neg_score() for synset in synsets]) / len(synsets), 4)\n",
    "            sentiment_scores.append((token, pos_score, neg_score))\n",
    "    return sentiment_scores\n",
    "\n",
    "# Apply SentiWordNet sentiment analysis to the pre-processed data\n",
    "random_reviews['sentiwordnet_sentiment'] = random_reviews['filtered_tokens'].apply(get_sentiwordnet_sentiment)\n",
    "\n",
    "# Print the sentiment analysis results using SentiWordNet\n",
    "print(random_reviews['sentiwordnet_sentiment'])\n"
   ]
  },
  {
   "cell_type": "code",
   "execution_count": 38,
   "metadata": {},
   "outputs": [],
   "source": [
    "def convert_sentiment(scores):\n",
    "    pos_score = sum([score[1] for score in scores])\n",
    "    neg_score = sum([score[2] for score in scores])\n",
    "    \n",
    "    if pos_score > neg_score:\n",
    "        return 'Positive'\n",
    "    elif neg_score > pos_score:\n",
    "        return 'Negative'\n",
    "    else:\n",
    "        return 'Neutral'\n",
    "\n",
    "\n",
    "random_reviews['sentiwordnet_sentiment_label'] = random_reviews['sentiwordnet_sentiment'].apply(\n",
    "    convert_sentiment)"
   ]
  },
  {
   "cell_type": "code",
   "execution_count": 39,
   "metadata": {},
   "outputs": [
    {
     "name": "stdout",
     "output_type": "stream",
     "text": [
      "VADER Sentiment Label Counts:\n",
      "vader_sentiment_label\n",
      "Positive    877\n",
      "Neutral     123\n",
      "Name: count, dtype: int64\n",
      "\n",
      "SentiWordNet Sentiment Label Counts:\n",
      "sentiwordnet_sentiment_label\n",
      "Positive    900\n",
      "Negative     96\n",
      "Neutral       4\n",
      "Name: count, dtype: int64\n"
     ]
    }
   ],
   "source": [
    "vader_counts = random_reviews['vader_sentiment_label'].value_counts()\n",
    "sentiwordnet_counts = random_reviews['sentiwordnet_sentiment_label'].value_counts()\n",
    "\n",
    "print(\"VADER Sentiment Label Counts:\")\n",
    "print(vader_counts)\n",
    "\n",
    "print(\"\\nSentiWordNet Sentiment Label Counts:\")\n",
    "print(sentiwordnet_counts)\n"
   ]
  },
  {
   "cell_type": "code",
   "execution_count": 40,
   "metadata": {},
   "outputs": [],
   "source": [
    "# set pandas to display all text in a column\n",
    "pd.set_option('display.max_colwidth', None)\n",
    "# reset all the pandas options to default\n",
    "# pd.reset_option(\"^display\")"
   ]
  },
  {
   "cell_type": "code",
   "execution_count": 41,
   "metadata": {},
   "outputs": [
    {
     "name": "stdout",
     "output_type": "stream",
     "text": [
      "Rows with Different Labels:\n",
      "Number of Differences: 205\n"
     ]
    },
    {
     "data": {
      "text/html": [
       "<div>\n",
       "<style scoped>\n",
       "    .dataframe tbody tr th:only-of-type {\n",
       "        vertical-align: middle;\n",
       "    }\n",
       "\n",
       "    .dataframe tbody tr th {\n",
       "        vertical-align: top;\n",
       "    }\n",
       "\n",
       "    .dataframe thead th {\n",
       "        text-align: right;\n",
       "    }\n",
       "</style>\n",
       "<table border=\"1\" class=\"dataframe\">\n",
       "  <thead>\n",
       "    <tr style=\"text-align: right;\">\n",
       "      <th></th>\n",
       "      <th>fullText</th>\n",
       "      <th>vader_sentiment_label</th>\n",
       "      <th>sentiwordnet_sentiment_label</th>\n",
       "    </tr>\n",
       "  </thead>\n",
       "  <tbody>\n",
       "    <tr>\n",
       "      <th>3175</th>\n",
       "      <td>I wear these everyday to work, the gym, etc. Five Stars</td>\n",
       "      <td>Neutral</td>\n",
       "      <td>Positive</td>\n",
       "    </tr>\n",
       "    <tr>\n",
       "      <th>2056</th>\n",
       "      <td>Nice fit Four Stars</td>\n",
       "      <td>Neutral</td>\n",
       "      <td>Positive</td>\n",
       "    </tr>\n",
       "    <tr>\n",
       "      <th>301</th>\n",
       "      <td>Nice product Four Stars</td>\n",
       "      <td>Neutral</td>\n",
       "      <td>Positive</td>\n",
       "    </tr>\n",
       "    <tr>\n",
       "      <th>581</th>\n",
       "      <td>great Five Stars</td>\n",
       "      <td>Neutral</td>\n",
       "      <td>Positive</td>\n",
       "    </tr>\n",
       "    <tr>\n",
       "      <th>2429</th>\n",
       "      <td>Very confortable. Smooth and confortable.</td>\n",
       "      <td>Positive</td>\n",
       "      <td>Neutral</td>\n",
       "    </tr>\n",
       "    <tr>\n",
       "      <th>193</th>\n",
       "      <td>I always order a 1/2 size up in workout shoes. Lightweight</td>\n",
       "      <td>Positive</td>\n",
       "      <td>Negative</td>\n",
       "    </tr>\n",
       "    <tr>\n",
       "      <th>17</th>\n",
       "      <td>Relieved my Plantar Fascitis for 3 Days. Then the unbearable pain returned in full force. These were recommended by my Podiatrist. These were recommended by my Podiatrist</td>\n",
       "      <td>Positive</td>\n",
       "      <td>Negative</td>\n",
       "    </tr>\n",
       "    <tr>\n",
       "      <th>905</th>\n",
       "      <td>They looked very cheap Returned...looked cheap</td>\n",
       "      <td>Positive</td>\n",
       "      <td>Negative</td>\n",
       "    </tr>\n",
       "    <tr>\n",
       "      <th>2859</th>\n",
       "      <td>On time, nice sneakers. Fit as expected. nice sneakers. Fit as expected</td>\n",
       "      <td>Neutral</td>\n",
       "      <td>Positive</td>\n",
       "    </tr>\n",
       "    <tr>\n",
       "      <th>1591</th>\n",
       "      <td>I've had these shoes for about a week now and have so far enjoyed using them. Considering the fact that I have wide feet, the shoes are slightly tight. However, it doesn't feel uncomfortable nor does it bothers me as I use them throughout my workouts. I know some people personally like when the shoes are a bit tighter or a bit looser so it's all in personal preference. Wide Feet so Somewhat Tight</td>\n",
       "      <td>Positive</td>\n",
       "      <td>Negative</td>\n",
       "    </tr>\n",
       "  </tbody>\n",
       "</table>\n",
       "</div>"
      ],
      "text/plain": [
       "                                                                                                                                                                                                                                                                                                                                                                                                             fullText  \\\n",
       "3175                                                                                                                                                                                                                                                                                                                                                          I wear these everyday to work, the gym, etc. Five Stars   \n",
       "2056                                                                                                                                                                                                                                                                                                                                                                                              Nice fit Four Stars   \n",
       "301                                                                                                                                                                                                                                                                                                                                                                                           Nice product Four Stars   \n",
       "581                                                                                                                                                                                                                                                                                                                                                                                                  great Five Stars   \n",
       "2429                                                                                                                                                                                                                                                                                                                                                                        Very confortable. Smooth and confortable.   \n",
       "193                                                                                                                                                                                                                                                                                                                                                        I always order a 1/2 size up in workout shoes. Lightweight   \n",
       "17                                                                                                                                                                                                                                         Relieved my Plantar Fascitis for 3 Days. Then the unbearable pain returned in full force. These were recommended by my Podiatrist. These were recommended by my Podiatrist   \n",
       "905                                                                                                                                                                                                                                                                                                                                                                    They looked very cheap Returned...looked cheap   \n",
       "2859                                                                                                                                                                                                                                                                                                                                          On time, nice sneakers. Fit as expected. nice sneakers. Fit as expected   \n",
       "1591  I've had these shoes for about a week now and have so far enjoyed using them. Considering the fact that I have wide feet, the shoes are slightly tight. However, it doesn't feel uncomfortable nor does it bothers me as I use them throughout my workouts. I know some people personally like when the shoes are a bit tighter or a bit looser so it's all in personal preference. Wide Feet so Somewhat Tight   \n",
       "\n",
       "     vader_sentiment_label sentiwordnet_sentiment_label  \n",
       "3175               Neutral                     Positive  \n",
       "2056               Neutral                     Positive  \n",
       "301                Neutral                     Positive  \n",
       "581                Neutral                     Positive  \n",
       "2429              Positive                      Neutral  \n",
       "193               Positive                     Negative  \n",
       "17                Positive                     Negative  \n",
       "905               Positive                     Negative  \n",
       "2859               Neutral                     Positive  \n",
       "1591              Positive                     Negative  "
      ]
     },
     "execution_count": 41,
     "metadata": {},
     "output_type": "execute_result"
    }
   ],
   "source": [
    "# Filter rows with different labels from VADER and SentiWordNet\n",
    "different_labels = random_reviews[random_reviews['vader_sentiment_label'] != random_reviews['sentiwordnet_sentiment_label']]\n",
    "\n",
    "# Display the rows with different labels\n",
    "print(\"Rows with Different Labels:\")\n",
    "#print(different_labels)\n",
    "# Filter rows with different labels from VADER and SentiWordNet\n",
    "different_labels = random_reviews[random_reviews['vader_sentiment_label'] != random_reviews['sentiwordnet_sentiment_label']]\n",
    "\n",
    "num_differences = len(different_labels)\n",
    "print(\"Number of Differences:\", num_differences)\n",
    "\n",
    "\n",
    "# Display the full text, VADER sentiment label, and SentiWordNet label columns for the rows with different labels\n",
    "different_labels[['fullText', 'vader_sentiment_label', 'sentiwordnet_sentiment_label']].head(10)"
   ]
  },
  {
   "cell_type": "markdown",
   "metadata": {},
   "source": [
    "Analysis of VADER vs SENTIWORDNET\n",
    "1. \"They looked very cheap Returned... looked cheap\"\n",
    "* VADER Label: Positive\n",
    "* WordNet Label: Negative\n",
    "* Analsis: VADER may have misinterpreted this text as positive possible due to the lack of explicitly negative words that it recignizes. It could also have been due to the phrase strucuture not being directly associated with negativity in its sentiment lexicon. On the other hand WordNet likely foucsed on the word \"cheap\" in a negative context, correctly identifyingh the sentiment as negative. This highlights a potential limitation of VADER and its understaning of certian negations or context clues that diminish the value or quality of an item.\n",
    "2. Plantar Fascitis relief comment (Relieved my Plantar Fascitis for 3 Days. Then the unbearable pain returned in full force. These were recommended by my Podiatrist. These were recommended by my Podiatrist)\n",
    "* VADER: labelled as positive, likely because the intial part of the commment ('relieved my plantar facitis for 3 days') is positive, and VADER may weight early sentiment words more heavily or not fully account for the negative turn later in the text.\n",
    "* WordNet: Labelled as negative, possible due to aggregating the sentiment scores across the entire text, where the neghative sentiment ('unbearable pain returned in full force') outweighs the initial postiive sentiment.\n",
    "3. \"On time, nice sneakers. Fit as expected. nice sneakers. Fit as expected\"\n",
    "* VADER label: neutral\n",
    "* WordNet lable: Positive\n",
    "* This example is more straightforward in sentiment with positive phrases such as \"on time\", \"nice sneakers\", and \"fit as expected\". WordNet's identification as postiive makes sense, likely picking up on the positive adjectives. The neutral classification from VADER may be due to the way it computes scores. Perhaps the overall sentiment score didnt reach the specific threshold to be considered positive, or it may have weighted these phrases differently.\n",
    "4. \"Very confortable. Smooth and confortable\"\n",
    "* VADER Label: Postitive\n",
    "* WordNet Label: Neutral\n",
    "* The misclassification of WordNet is likely due to the incorrect spelling of the owrd comfortable, as word net relies on correct spelling. If \"confortable\" is not in the database, it wouldn't contribute to the sentiment score. This could be improved by correcting spelling during preprocessing. VADER on the other hand is designed to work on social media text, where you will often see spelling errors, and so it may have been abnle to map the mispelled word correctly leading to a better sentiment classification"
   ]
  },
  {
   "cell_type": "code",
   "execution_count": 42,
   "metadata": {},
   "outputs": [
    {
     "data": {
      "image/png": "[encoded data removed]",
      "text/plain": [
       "<Figure size 1200x500 with 4 Axes>"
      ]
     },
     "metadata": {},
     "output_type": "display_data"
    }
   ],
   "source": [
    "# Confusion Matrix for VADER\n",
    "vader_conf_matrix = confusion_matrix(random_reviews['ratings'], random_reviews['vader_sentiment_label'], labels=['Positive', 'Neutral', 'Negative'])\n",
    "\n",
    "# Confusion Matrix for SentiWordNet\n",
    "sentiwordnet_conf_matrix = confusion_matrix(random_reviews['ratings'], random_reviews['sentiwordnet_sentiment_label'], labels=['Positive', 'Neutral', 'Negative'])\n",
    "\n",
    "# Plotting Heatmaps\n",
    "fig, axes = plt.subplots(1, 2, figsize=(12, 5))\n",
    "\n",
    "# Heatmap for VADER\n",
    "sns.heatmap(vader_conf_matrix, annot=True, fmt='d', cmap='Blues', xticklabels=['Positive', 'Neutral', 'Negative'], yticklabels=['Positive', 'Neutral', 'Negative'], ax=axes[0])\n",
    "axes[0].set_title('VADER Confusion Matrix')\n",
    "axes[0].set_xlabel('Predicted')\n",
    "axes[0].set_ylabel('True')\n",
    "\n",
    "# Heatmap for SentiWordNet\n",
    "sns.heatmap(sentiwordnet_conf_matrix, annot=True, fmt='d', cmap='Blues', xticklabels=['Positive', 'Neutral', 'Negative'], yticklabels=['Positive', 'Neutral', 'Negative'], ax=axes[1])\n",
    "axes[1].set_title('SentiWordNet Confusion Matrix')\n",
    "axes[1].set_xlabel('Predicted')\n",
    "axes[1].set_ylabel('True')\n",
    "\n",
    "plt.tight_layout()\n",
    "plt.show()\n"
   ]
  },
  {
   "cell_type": "markdown",
   "metadata": {},
   "source": [
    "Analysis\n",
    "\n",
    "VADER does not seem to be able to classify any reviews as negative within this dataset, which is a definite point of concern. This indicates a potential bias toward positive or neutral classification, but in this case it is likely due to a lack of representative negative samples.\\\n",
    "\\\n",
    "WordNet has a more balanced performance across all three sentiment classes. However, it sill struggles with some FPs where neutral rewviews are classed as positive.\\\n",
    "\\\n",
    "The plot shows a tendancy for the models to classify reviews as positive, which is no surprise given the skewness of the data. "
   ]
  },
  {
   "cell_type": "code",
   "execution_count": 43,
   "metadata": {},
   "outputs": [
    {
     "name": "stdout",
     "output_type": "stream",
     "text": [
      "Classification Report for VADER:\n",
      "               precision    recall  f1-score   support\n",
      "\n",
      "    Positive       0.84      0.88      0.86       837\n",
      "     Neutral       0.08      0.10      0.09       103\n",
      "    Negative       0.00      0.00      0.00        60\n",
      "\n",
      "    accuracy                           0.74      1000\n",
      "   macro avg       0.31      0.32      0.31      1000\n",
      "weighted avg       0.71      0.74      0.73      1000\n",
      "\n",
      "\n",
      "Classification Report for SentiWordNet:\n",
      "               precision    recall  f1-score   support\n",
      "\n",
      "    Positive       0.87      0.94      0.90       837\n",
      "     Neutral       0.00      0.00      0.00       103\n",
      "    Negative       0.28      0.45      0.35        60\n",
      "\n",
      "    accuracy                           0.81      1000\n",
      "   macro avg       0.38      0.46      0.42      1000\n",
      "weighted avg       0.75      0.81      0.78      1000\n",
      "\n"
     ]
    },
    {
     "name": "stderr",
     "output_type": "stream",
     "text": [
      "c:\\Users\\Mark\\anaconda3\\envs\\gpu2\\lib\\site-packages\\sklearn\\metrics\\_classification.py:1497: UndefinedMetricWarning: Precision is ill-defined and being set to 0.0 in labels with no predicted samples. Use `zero_division` parameter to control this behavior.\n",
      "  _warn_prf(average, modifier, f\"{metric.capitalize()} is\", len(result))\n",
      "c:\\Users\\Mark\\anaconda3\\envs\\gpu2\\lib\\site-packages\\sklearn\\metrics\\_classification.py:1497: UndefinedMetricWarning: Precision is ill-defined and being set to 0.0 in labels with no predicted samples. Use `zero_division` parameter to control this behavior.\n",
      "  _warn_prf(average, modifier, f\"{metric.capitalize()} is\", len(result))\n",
      "c:\\Users\\Mark\\anaconda3\\envs\\gpu2\\lib\\site-packages\\sklearn\\metrics\\_classification.py:1497: UndefinedMetricWarning: Precision is ill-defined and being set to 0.0 in labels with no predicted samples. Use `zero_division` parameter to control this behavior.\n",
      "  _warn_prf(average, modifier, f\"{metric.capitalize()} is\", len(result))\n"
     ]
    }
   ],
   "source": [
    "# Classification Report for VADER\n",
    "vader_classification_report = classification_report(random_reviews['ratings'], random_reviews['vader_sentiment_label'], labels=['Positive', 'Neutral', 'Negative'])\n",
    "print(\"Classification Report for VADER:\\n\", vader_classification_report)\n",
    "\n",
    "# Classification Report for SentiWordNet\n",
    "sentiwordnet_classification_report = classification_report(random_reviews['ratings'], random_reviews['sentiwordnet_sentiment_label'], labels=['Positive', 'Neutral', 'Negative'])\n",
    "print(\"\\nClassification Report for SentiWordNet:\\n\", sentiwordnet_classification_report)"
   ]
  },
  {
   "cell_type": "markdown",
   "metadata": {},
   "source": [
    "11.\tModeling (Sentiment Analysis) Machine Learning approach: \\\n",
    "a.\tSelect a subset of the original data minimum 2000 reviews, check point 14 below as you select the subset.\\\n",
    "b.\tCarry out data exploration on the subset and pre-processing and justify each step of preprocessing.\\\n",
    "c.\tRepresent your text using one of the text representations discussed in the course, make sure to note in your report why you chose that representation.\\\n",
    "d.\tSplit the data into 70% for training and 30% for testing,—Use stratified splitting based on the rating value field.\\\n",
    "e.\tBuild two sentiment analysis models using 70% of the data. Choose two of the following Machine Learning algorithms to build and fine tune your models:\\\n",
    "i.\tLogistic Regression \\\n",
    "ii.\tSVM\\\n",
    "iii.\tNaïve Bayes\\\n",
    "iv.\tGradient Boosting\\\n",
    "v.\tMLP\n"
   ]
  },
  {
   "cell_type": "markdown",
   "metadata": {},
   "source": [
    "Given the nature of sentiment analysis and the characteristics of the dataset, here are two proposed algorithms for a machine learning approach.\\\n",
    "\n",
    "1. SVM (Support Vector Machines)\n",
    "* High Dimensionality: SVM is effective in high-dimensional spaces, which is typical for text data after vectorization (eg. with tfidf or word embeddings). Given the likely complexity of features space for this dataset, SVMs ability to handle large amounts of features would likely be beneficial.\n",
    "* Sparsity: Text data vectorization results in sparse matrices. SVMs are capabale of handling such sparsity effectively, making it a suitable choice for this sentiment analysis task.\n",
    "* Versatility: The kernel trick allows SVM to work well even when the data isn't linearly seperable in the original feature space. This felxibility would allow us to experiment with different kernels, to potentially increase performance.\n",
    "\\\n",
    "2. Gradient Boosting\n",
    "* Handling Imbalance Data: The Amazon Fashion dataset exhibits significant class imbalance (eg. more postive than negative). Gradient Boosting can handle imbalanced data well by focusing on the harder to classify instances over iterations.\n",
    "* Feature Importance: Gradient Boosting provides insights into feature importance, which can be useful for understanding what aspects of the text influence sentiment the most. This can guide further feature engineering and processing enhancements.\n",
    "* Sequential Learning: By building trees sequentially, each new tree can correct the errors made by previously learned trees. This approach can be especially useful for text classifications where many relationships are often nuanced and intricate."
   ]
  },
  {
   "cell_type": "markdown",
   "metadata": {},
   "source": [
    "Notable Mentions and Reasons for Exclusion:\n",
    "1. Logistic Regression\n",
    "* Simplicity: Log Reg is simpl and interpretable but might lack the complexity needed to capture the nuanced relationships in text data for sentiment analysis. It typically performs well as a baseline but might be outperformed by more complex and sophisticated models.\n",
    "2. MLP (Mulit-Layer Perceptron)\n",
    "* Complexity and Overfitting: While MLPs can model complex relationships in data, they also come with a risk of overfitting, so extra care must be taken in that regard. On top of this, their complexity make them difficult to explain and rationalize.\n",
    "3. Naive Bayes\n",
    "* Assumption of Independence: Naive Bayes naively (hence the name) assumes feature independence, which is seldom true in natural language where word context and order will often sgnificantly imapct meaning. This assumption would likely limit its effectiveness in capturing the dependencies and nuances of sentiment analysis."
   ]
  },
  {
   "cell_type": "code",
   "execution_count": 44,
   "metadata": {},
   "outputs": [
    {
     "data": {
      "text/html": [
       "<div>\n",
       "<style scoped>\n",
       "    .dataframe tbody tr th:only-of-type {\n",
       "        vertical-align: middle;\n",
       "    }\n",
       "\n",
       "    .dataframe tbody tr th {\n",
       "        vertical-align: top;\n",
       "    }\n",
       "\n",
       "    .dataframe thead th {\n",
       "        text-align: right;\n",
       "    }\n",
       "</style>\n",
       "<table border=\"1\" class=\"dataframe\">\n",
       "  <thead>\n",
       "    <tr style=\"text-align: right;\">\n",
       "      <th></th>\n",
       "      <th>overall</th>\n",
       "      <th>verified</th>\n",
       "      <th>reviewerID</th>\n",
       "      <th>asin</th>\n",
       "      <th>ratings</th>\n",
       "      <th>year</th>\n",
       "      <th>fullText</th>\n",
       "      <th>overall_Z</th>\n",
       "      <th>tokens</th>\n",
       "      <th>stopwords</th>\n",
       "      <th>pos_tags</th>\n",
       "      <th>filtered_tokens</th>\n",
       "    </tr>\n",
       "  </thead>\n",
       "  <tbody>\n",
       "    <tr>\n",
       "      <th>1</th>\n",
       "      <td>5</td>\n",
       "      <td>True</td>\n",
       "      <td>ALJ66O1Y6SLHA</td>\n",
       "      <td>B000K2PJ4K</td>\n",
       "      <td>Positive</td>\n",
       "      <td>2015</td>\n",
       "      <td>Great product and price! Five Stars</td>\n",
       "      <td>0.575593</td>\n",
       "      <td>[great, product, and, price, five, stars]</td>\n",
       "      <td>[great, product, price, five, stars]</td>\n",
       "      <td>[(great, JJ), (product, NN), (price, NN), (five, CD), (stars, NNS)]</td>\n",
       "      <td>[great, product, price, star]</td>\n",
       "    </tr>\n",
       "    <tr>\n",
       "      <th>2</th>\n",
       "      <td>5</td>\n",
       "      <td>True</td>\n",
       "      <td>ALJ66O1Y6SLHA</td>\n",
       "      <td>B000K2PJ4K</td>\n",
       "      <td>Positive</td>\n",
       "      <td>2015</td>\n",
       "      <td>Great product and price! Five Stars</td>\n",
       "      <td>0.575593</td>\n",
       "      <td>[great, product, and, price, five, stars]</td>\n",
       "      <td>[great, product, price, five, stars]</td>\n",
       "      <td>[(great, JJ), (product, NN), (price, NN), (five, CD), (stars, NNS)]</td>\n",
       "      <td>[great, product, price, star]</td>\n",
       "    </tr>\n",
       "    <tr>\n",
       "      <th>3</th>\n",
       "      <td>5</td>\n",
       "      <td>True</td>\n",
       "      <td>ALJ66O1Y6SLHA</td>\n",
       "      <td>B000K2PJ4K</td>\n",
       "      <td>Positive</td>\n",
       "      <td>2015</td>\n",
       "      <td>Great product and price! Five Stars</td>\n",
       "      <td>0.575593</td>\n",
       "      <td>[great, product, and, price, five, stars]</td>\n",
       "      <td>[great, product, price, five, stars]</td>\n",
       "      <td>[(great, JJ), (product, NN), (price, NN), (five, CD), (stars, NNS)]</td>\n",
       "      <td>[great, product, price, star]</td>\n",
       "    </tr>\n",
       "    <tr>\n",
       "      <th>4</th>\n",
       "      <td>5</td>\n",
       "      <td>True</td>\n",
       "      <td>ALJ66O1Y6SLHA</td>\n",
       "      <td>B000K2PJ4K</td>\n",
       "      <td>Positive</td>\n",
       "      <td>2015</td>\n",
       "      <td>Great product and price! Five Stars</td>\n",
       "      <td>0.575593</td>\n",
       "      <td>[great, product, and, price, five, stars]</td>\n",
       "      <td>[great, product, price, five, stars]</td>\n",
       "      <td>[(great, JJ), (product, NN), (price, NN), (five, CD), (stars, NNS)]</td>\n",
       "      <td>[great, product, price, star]</td>\n",
       "    </tr>\n",
       "    <tr>\n",
       "      <th>5</th>\n",
       "      <td>3</td>\n",
       "      <td>True</td>\n",
       "      <td>A3W11493KS6Z2L</td>\n",
       "      <td>B000K2PJ4K</td>\n",
       "      <td>Neutral</td>\n",
       "      <td>2015</td>\n",
       "      <td>Waaay too small. Will use for futur children! Oops!</td>\n",
       "      <td>1.356842</td>\n",
       "      <td>[waaay, too, small, will, use, for, futur, children, oops]</td>\n",
       "      <td>[waaay, small, use, futur, children, oops]</td>\n",
       "      <td>[(waaay, RB), (small, JJ), (use, NN), (futur, JJ), (children, NNS), (oops, NNS)]</td>\n",
       "      <td>[waaay, small, use, futur, child, oops]</td>\n",
       "    </tr>\n",
       "  </tbody>\n",
       "</table>\n",
       "</div>"
      ],
      "text/plain": [
       "   overall  verified      reviewerID        asin   ratings   year  \\\n",
       "1        5      True   ALJ66O1Y6SLHA  B000K2PJ4K  Positive   2015   \n",
       "2        5      True   ALJ66O1Y6SLHA  B000K2PJ4K  Positive   2015   \n",
       "3        5      True   ALJ66O1Y6SLHA  B000K2PJ4K  Positive   2015   \n",
       "4        5      True   ALJ66O1Y6SLHA  B000K2PJ4K  Positive   2015   \n",
       "5        3      True  A3W11493KS6Z2L  B000K2PJ4K   Neutral   2015   \n",
       "\n",
       "                                              fullText  overall_Z  \\\n",
       "1                  Great product and price! Five Stars   0.575593   \n",
       "2                  Great product and price! Five Stars   0.575593   \n",
       "3                  Great product and price! Five Stars   0.575593   \n",
       "4                  Great product and price! Five Stars   0.575593   \n",
       "5  Waaay too small. Will use for futur children! Oops!   1.356842   \n",
       "\n",
       "                                                       tokens  \\\n",
       "1                   [great, product, and, price, five, stars]   \n",
       "2                   [great, product, and, price, five, stars]   \n",
       "3                   [great, product, and, price, five, stars]   \n",
       "4                   [great, product, and, price, five, stars]   \n",
       "5  [waaay, too, small, will, use, for, futur, children, oops]   \n",
       "\n",
       "                                    stopwords  \\\n",
       "1        [great, product, price, five, stars]   \n",
       "2        [great, product, price, five, stars]   \n",
       "3        [great, product, price, five, stars]   \n",
       "4        [great, product, price, five, stars]   \n",
       "5  [waaay, small, use, futur, children, oops]   \n",
       "\n",
       "                                                                           pos_tags  \\\n",
       "1               [(great, JJ), (product, NN), (price, NN), (five, CD), (stars, NNS)]   \n",
       "2               [(great, JJ), (product, NN), (price, NN), (five, CD), (stars, NNS)]   \n",
       "3               [(great, JJ), (product, NN), (price, NN), (five, CD), (stars, NNS)]   \n",
       "4               [(great, JJ), (product, NN), (price, NN), (five, CD), (stars, NNS)]   \n",
       "5  [(waaay, RB), (small, JJ), (use, NN), (futur, JJ), (children, NNS), (oops, NNS)]   \n",
       "\n",
       "                           filtered_tokens  \n",
       "1            [great, product, price, star]  \n",
       "2            [great, product, price, star]  \n",
       "3            [great, product, price, star]  \n",
       "4            [great, product, price, star]  \n",
       "5  [waaay, small, use, futur, child, oops]  "
      ]
     },
     "execution_count": 44,
     "metadata": {},
     "output_type": "execute_result"
    }
   ],
   "source": [
    "# remaining reviews is what is left after being sampled\n",
    "remaining_reviews.head()"
   ]
  },
  {
   "cell_type": "code",
   "execution_count": 45,
   "metadata": {},
   "outputs": [],
   "source": [
    "# Preprocessing function\n",
    "def preprocess_text(text):\n",
    "    tokens = word_tokenize(text) # tokenization\n",
    "    tokens = [word.lower() for word in tokens if word not in string.punctuation] #lowerasing\n",
    "    # remove stosp words\n",
    "    stop_words = set(stopwords.words('english'))\n",
    "    tokens = [word for word in tokens if word not in stop_words]\n",
    "    \n",
    "    # lemming\n",
    "    lemmatizer = WordNetLemmatizer()\n",
    "    tokens = [lemmatizer.lemmatize(word) for word in tokens]\n",
    "\n",
    "    return ' '.join(tokens)\n",
    "\n",
    "# Apply the preprocessing function to the 'fullText' column\n",
    "remaining_reviews['processed_fullText'] = remaining_reviews['fullText'].apply(preprocess_text)"
   ]
  },
  {
   "cell_type": "code",
   "execution_count": 46,
   "metadata": {},
   "outputs": [
    {
     "name": "stdout",
     "output_type": "stream",
     "text": [
      "\n",
      "Logistic Regression Statistics:\n",
      "\n",
      "Accuracy: 0.9845679012345679\n",
      "Confusion Matrix:\n",
      " [[ 43   0   2]\n",
      " [  0  62   8]\n",
      " [  0   0 533]]\n",
      "Classification Report:\n",
      "               precision    recall  f1-score   support\n",
      "\n",
      "    Negative       1.00      0.96      0.98        45\n",
      "     Neutral       1.00      0.89      0.94        70\n",
      "    Positive       0.98      1.00      0.99       533\n",
      "\n",
      "    accuracy                           0.98       648\n",
      "   macro avg       0.99      0.95      0.97       648\n",
      "weighted avg       0.98      0.98      0.98       648\n",
      "\n"
     ]
    }
   ],
   "source": [
    "# split\n",
    "X = remaining_reviews['processed_fullText']  \n",
    "y = remaining_reviews['ratings']  \n",
    "\n",
    "X_train, X_test, y_train, y_test = train_test_split(X, y, test_size=0.3, stratify=y, random_state=42)\n",
    "\n",
    "# create tfidf vectorizer\n",
    "tfidf_vectorizer = TfidfVectorizer(max_features=5000)\n",
    "\n",
    "# logistc regression pipeline\n",
    "log_reg_pipeline = Pipeline([\n",
    "    ('tfidf', TfidfVectorizer(max_features=5000)),  # tfidf vectorizer steop\n",
    "    ('log_reg', LogisticRegression(random_state=42))  # log reg step\n",
    "])\n",
    "\n",
    "log_reg_pipeline.fit(X_train, y_train)\n",
    "\n",
    "# get preds\n",
    "y_pred_log_reg = log_reg_pipeline.predict(X_test)\n",
    "print(\"\\nLogistic Regression Statistics:\\n\")\n",
    "print(\"Accuracy:\", accuracy_score(y_test, y_pred_log_reg))\n",
    "print(\"Confusion Matrix:\\n\", confusion_matrix(y_test, y_pred_log_reg))\n",
    "print(\"Classification Report:\\n\", classification_report(y_test, y_pred_log_reg))\n"
   ]
  },
  {
   "cell_type": "code",
   "execution_count": 47,
   "metadata": {},
   "outputs": [
    {
     "name": "stdout",
     "output_type": "stream",
     "text": [
      "\n",
      "Naive Bayes Statistics:\n",
      "\n",
      "Accuracy: 0.9290123456790124\n",
      "Confusion Matrix:\n",
      " [[ 23   0  22]\n",
      " [  0  46  24]\n",
      " [  0   0 533]]\n",
      "Classification Report:\n",
      "               precision    recall  f1-score   support\n",
      "\n",
      "    Negative       1.00      0.51      0.68        45\n",
      "     Neutral       1.00      0.66      0.79        70\n",
      "    Positive       0.92      1.00      0.96       533\n",
      "\n",
      "    accuracy                           0.93       648\n",
      "   macro avg       0.97      0.72      0.81       648\n",
      "weighted avg       0.93      0.93      0.92       648\n",
      "\n"
     ]
    }
   ],
   "source": [
    "X_train, X_test, y_train, y_test = train_test_split(X, y, test_size=0.3, stratify=y, random_state=42)\n",
    "\n",
    "# naive bayes pipeline setup\n",
    "nb_pipeline = Pipeline([\n",
    "    ('tfidf', TfidfVectorizer(max_features=5000)),\n",
    "    ('nb', MultinomialNB())\n",
    "])\n",
    "\n",
    "# train the base nb model\n",
    "nb_pipeline.fit(X_train, y_train)\n",
    "y_pred_nb = nb_pipeline.predict(X_test) # preds\n",
    "\n",
    "# eval\n",
    "print(\"\\nNaive Bayes Statistics:\\n\")\n",
    "print(\"Accuracy:\", accuracy_score(y_test, y_pred_nb))\n",
    "print(\"Confusion Matrix:\\n\", confusion_matrix(y_test, y_pred_nb))\n",
    "print(\"Classification Report:\\n\", classification_report(y_test, y_pred_nb))"
   ]
  },
  {
   "cell_type": "code",
   "execution_count": 48,
   "metadata": {},
   "outputs": [],
   "source": [
    "tfidf_vectorizer = TfidfVectorizer(max_features=5000)\n",
    "X_train_tfidf = tfidf_vectorizer.fit_transform(X_train)\n",
    "X_test_tfidf = tfidf_vectorizer.transform(X_test)\n",
    "\n",
    "# encode the labels\n",
    "label_encoder = LabelEncoder()\n",
    "y_train_encoded = label_encoder.fit_transform(y_train)\n",
    "y_test_encoded = label_encoder.transform(y_test)\n",
    "\n",
    "# convert labels to one-hot encoding\n",
    "y_train_onehot = to_categorical(y_train_encoded)\n",
    "y_test_onehot = to_categorical(y_test_encoded)"
   ]
  },
  {
   "cell_type": "code",
   "execution_count": 49,
   "metadata": {},
   "outputs": [
    {
     "name": "stdout",
     "output_type": "stream",
     "text": [
      "Model: \"sequential\"\n",
      "_________________________________________________________________\n",
      " Layer (type)                Output Shape              Param #   \n",
      "=================================================================\n",
      " dense (Dense)               (None, 512)               641024    \n",
      "                                                                 \n",
      " dropout (Dropout)           (None, 512)               0         \n",
      "                                                                 \n",
      " dense_1 (Dense)             (None, 512)               262656    \n",
      "                                                                 \n",
      " dropout_1 (Dropout)         (None, 512)               0         \n",
      "                                                                 \n",
      " dense_2 (Dense)             (None, 3)                 1539      \n",
      "                                                                 \n",
      "=================================================================\n",
      "Total params: 905,219\n",
      "Trainable params: 905,219\n",
      "Non-trainable params: 0\n",
      "_________________________________________________________________\n"
     ]
    }
   ],
   "source": [
    "# define the MLP model\n",
    "model = Sequential([\n",
    "    Dense(512, activation='relu', input_shape=(X_train_tfidf.shape[1],)),\n",
    "    Dropout(0.2),\n",
    "    Dense(512, activation='relu'),\n",
    "    Dropout(0.2),\n",
    "    Dense(y_train_onehot.shape[1], activation='softmax')\n",
    "])\n",
    "\n",
    "model.compile(optimizer='adam',\n",
    "              loss='categorical_crossentropy',\n",
    "              metrics=['accuracy'])\n",
    "\n",
    "model.summary()"
   ]
  },
  {
   "cell_type": "code",
   "execution_count": 50,
   "metadata": {},
   "outputs": [
    {
     "name": "stdout",
     "output_type": "stream",
     "text": [
      "Epoch 1/10\n",
      "11/11 - 1s - loss: 0.7920 - accuracy: 0.7493 - val_loss: 0.3582 - val_accuracy: 0.8882 - 1s/epoch - 104ms/step\n",
      "Epoch 2/10\n",
      "11/11 - 0s - loss: 0.4497 - accuracy: 0.8147 - val_loss: 0.2407 - val_accuracy: 0.8882 - 165ms/epoch - 15ms/step\n",
      "Epoch 3/10\n",
      "11/11 - 0s - loss: 0.3121 - accuracy: 0.8154 - val_loss: 0.1950 - val_accuracy: 0.8882 - 162ms/epoch - 15ms/step\n",
      "Epoch 4/10\n",
      "11/11 - 0s - loss: 0.2335 - accuracy: 0.8478 - val_loss: 0.1303 - val_accuracy: 0.9539 - 164ms/epoch - 15ms/step\n",
      "Epoch 5/10\n",
      "11/11 - 0s - loss: 0.1606 - accuracy: 0.9353 - val_loss: 0.0841 - val_accuracy: 0.9868 - 157ms/epoch - 14ms/step\n",
      "Epoch 6/10\n",
      "11/11 - 0s - loss: 0.0934 - accuracy: 0.9890 - val_loss: 0.0476 - val_accuracy: 1.0000 - 163ms/epoch - 15ms/step\n",
      "Epoch 7/10\n",
      "11/11 - 0s - loss: 0.0397 - accuracy: 0.9993 - val_loss: 0.0221 - val_accuracy: 1.0000 - 168ms/epoch - 15ms/step\n",
      "Epoch 8/10\n",
      "11/11 - 0s - loss: 0.0121 - accuracy: 1.0000 - val_loss: 0.0137 - val_accuracy: 1.0000 - 160ms/epoch - 15ms/step\n",
      "Epoch 9/10\n",
      "11/11 - 0s - loss: 0.0040 - accuracy: 1.0000 - val_loss: 0.0101 - val_accuracy: 1.0000 - 162ms/epoch - 15ms/step\n",
      "Epoch 10/10\n",
      "11/11 - 0s - loss: 0.0017 - accuracy: 1.0000 - val_loss: 0.0084 - val_accuracy: 1.0000 - 163ms/epoch - 15ms/step\n"
     ]
    }
   ],
   "source": [
    "history = model.fit(X_train_tfidf.toarray(), y_train_onehot,\n",
    "                    epochs=10,\n",
    "                    batch_size=128,\n",
    "                    validation_split=0.1,\n",
    "                    verbose=2)\n"
   ]
  },
  {
   "cell_type": "code",
   "execution_count": 51,
   "metadata": {},
   "outputs": [
    {
     "name": "stdout",
     "output_type": "stream",
     "text": [
      "MLP Test accuracy: 0.9969135522842407\n"
     ]
    }
   ],
   "source": [
    "loss, accuracy = model.evaluate(X_test_tfidf.toarray(), y_test_onehot, verbose=0)\n",
    "print(f'MLP Test accuracy: {accuracy}')\n"
   ]
  },
  {
   "cell_type": "code",
   "execution_count": 52,
   "metadata": {},
   "outputs": [
    {
     "name": "stdout",
     "output_type": "stream",
     "text": [
      "\n",
      "SVM Statistics:\n",
      "\n",
      "Accuracy: 0.9922839506172839\n",
      "Confusion Matrix:\n",
      " [[ 43   0   2]\n",
      " [  0  67   3]\n",
      " [  0   0 533]]\n",
      "Classification Report:\n",
      "               precision    recall  f1-score   support\n",
      "\n",
      "    Negative       1.00      0.96      0.98        45\n",
      "     Neutral       1.00      0.96      0.98        70\n",
      "    Positive       0.99      1.00      1.00       533\n",
      "\n",
      "    accuracy                           0.99       648\n",
      "   macro avg       1.00      0.97      0.98       648\n",
      "weighted avg       0.99      0.99      0.99       648\n",
      "\n"
     ]
    }
   ],
   "source": [
    "from sklearn.svm import SVC\n",
    "\n",
    "svm_pipeline = Pipeline([\n",
    "    ('tfidf', TfidfVectorizer(max_features=5000)),\n",
    "    ('svm', SVC(kernel='linear', C=1, probability=True, random_state=42))\n",
    "])\n",
    "\n",
    "svm_pipeline.fit(X_train, y_train)\n",
    "\n",
    "y_pred_svm = svm_pipeline.predict(X_test)\n",
    "print(\"\\nSVM Statistics:\\n\")\n",
    "print(\"Accuracy:\", accuracy_score(y_test, y_pred_svm))\n",
    "print(\"Confusion Matrix:\\n\", confusion_matrix(y_test, y_pred_svm))\n",
    "print(\"Classification Report:\\n\", classification_report(y_test, y_pred_svm))"
   ]
  },
  {
   "cell_type": "code",
   "execution_count": 53,
   "metadata": {},
   "outputs": [
    {
     "name": "stdout",
     "output_type": "stream",
     "text": [
      "\n",
      "Gradient Boosting Statistics:\n",
      "\n",
      "Accuracy: 0.9938271604938271\n",
      "Confusion Matrix:\n",
      " [[ 45   0   0]\n",
      " [  0  66   4]\n",
      " [  0   0 533]]\n",
      "Classification Report:\n",
      "               precision    recall  f1-score   support\n",
      "\n",
      "    Negative       1.00      1.00      1.00        45\n",
      "     Neutral       1.00      0.94      0.97        70\n",
      "    Positive       0.99      1.00      1.00       533\n",
      "\n",
      "    accuracy                           0.99       648\n",
      "   macro avg       1.00      0.98      0.99       648\n",
      "weighted avg       0.99      0.99      0.99       648\n",
      "\n"
     ]
    }
   ],
   "source": [
    "gb_pipeline = Pipeline([\n",
    "    ('tfidf', TfidfVectorizer(max_features=5000)),\n",
    "    ('gb', GradientBoostingClassifier(random_state=42))\n",
    "])\n",
    "\n",
    "gb_pipeline.fit(X_train, y_train)\n",
    "\n",
    "y_pred_gb = gb_pipeline.predict(X_test)\n",
    "print(\"\\nGradient Boosting Statistics:\\n\")\n",
    "print(\"Accuracy:\", accuracy_score(y_test, y_pred_gb))\n",
    "print(\"Confusion Matrix:\\n\", confusion_matrix(y_test, y_pred_gb))\n",
    "print(\"Classification Report:\\n\", classification_report(y_test, y_pred_gb))"
   ]
  },
  {
   "cell_type": "markdown",
   "metadata": {},
   "source": [
    "Design an experiment to compare the test results of the Lexicon model versus the two\n",
    "machine learning models:\\\n",
    "a. Prepare the data: Here you will need to create a situation where you compare\\\n",
    "apples to apples, so whatever you used in the Lexicon should be the test data for\\\n",
    "your machine learning model, this step requires good design.\\\n",
    "b. Run both models on the same data and compare the results using appropriate\\\n",
    "metrics."
   ]
  },
  {
   "cell_type": "code",
   "execution_count": 54,
   "metadata": {},
   "outputs": [
    {
     "data": {
      "image/png": "[encoded data removed]",
      "text/plain": [
       "<Figure size 640x480 with 1 Axes>"
      ]
     },
     "metadata": {},
     "output_type": "display_data"
    }
   ],
   "source": [
    "import matplotlib.pyplot as plt\n",
    "import numpy as np\n",
    "from sklearn.metrics import precision_score, recall_score, f1_score\n",
    "\n",
    "# Assuming you've previously calculated y_pred_svm and y_pred_gb, and have y_test available\n",
    "# Calculate performance metrics\n",
    "accuracy_svm = accuracy_score(y_test, y_pred_svm)\n",
    "precision_svm = precision_score(y_test, y_pred_svm, average='macro')\n",
    "recall_svm = recall_score(y_test, y_pred_svm, average='macro')\n",
    "f1_svm = f1_score(y_test, y_pred_svm, average='macro')\n",
    "\n",
    "accuracy_gb = accuracy_score(y_test, y_pred_gb)\n",
    "precision_gb = precision_score(y_test, y_pred_gb, average='macro')\n",
    "recall_gb = recall_score(y_test, y_pred_gb, average='macro')\n",
    "f1_gb = f1_score(y_test, y_pred_gb, average='macro')\n",
    "\n",
    "# Prepare data for plotting\n",
    "models = ['SVM', 'Gradient Boosting']\n",
    "accuracy = [accuracy_svm, accuracy_gb]\n",
    "precision = [precision_svm, precision_gb]\n",
    "recall = [recall_svm, recall_gb]\n",
    "f1 = [f1_svm, f1_gb]\n",
    "\n",
    "x = np.arange(len(models))  # the label locations\n",
    "width = 0.2  # the width of the bars\n",
    "\n",
    "fig, ax = plt.subplots()\n",
    "rects1 = ax.bar(x - width*1.5, accuracy, width, label='Accuracy')\n",
    "rects2 = ax.bar(x - width/2, precision, width, label='Precision')\n",
    "rects3 = ax.bar(x + width/2, recall, width, label='Recall')\n",
    "rects4 = ax.bar(x + width*1.5, f1, width, label='F1 Score')\n",
    "\n",
    "# Add some text for labels, title and custom x-axis tick labels, etc.\n",
    "ax.set_ylabel('Scores')\n",
    "ax.set_title('Performance Comparison between SVM and Gradient Boosting')\n",
    "ax.set_xticks(x)\n",
    "ax.set_xticklabels(models)\n",
    "\n",
    "# Place the legend outside of the plot\n",
    "ax.legend(loc='upper left', bbox_to_anchor=(1, 1))\n",
    "\n",
    "# Attach a text label above each bar in rects, displaying its height.\n",
    "def autolabel(rects):\n",
    "    for rect in rects:\n",
    "        height = rect.get_height()\n",
    "        ax.annotate('{}'.format(round(height, 2)),\n",
    "                    xy=(rect.get_x() + rect.get_width() / 2, height),\n",
    "                    xytext=(0, 3),  # 3 points vertical offset\n",
    "                    textcoords=\"offset points\",\n",
    "                    ha='center', va='bottom')\n",
    "\n",
    "autolabel(rects1)\n",
    "autolabel(rects2)\n",
    "autolabel(rects3)\n",
    "autolabel(rects4)\n",
    "\n",
    "fig.tight_layout()\n",
    "plt.show()\n"
   ]
  },
  {
   "cell_type": "code",
   "execution_count": 55,
   "metadata": {},
   "outputs": [
    {
     "data": {
      "image/png": "[encoded data removed]",
      "text/plain": [
       "<Figure size 640x480 with 1 Axes>"
      ]
     },
     "metadata": {},
     "output_type": "display_data"
    }
   ],
   "source": [
    "import matplotlib.pyplot as plt\n",
    "import numpy as np\n",
    "from sklearn.metrics import precision_score, recall_score, f1_score, accuracy_score\n",
    "\n",
    "# calculate performance metrics for Gradient Boosting\n",
    "accuracy_gb = accuracy_score(y_test, y_pred_gb)\n",
    "precision_gb = precision_score(y_test, y_pred_gb, average='macro')\n",
    "recall_gb = recall_score(y_test, y_pred_gb, average='macro')\n",
    "f1_gb = f1_score(y_test, y_pred_gb, average='macro')\n",
    "\n",
    "# calculate performance metrics for SentiWordNet\n",
    "accuracy_swn = accuracy_score(random_reviews['ratings'], random_reviews['sentiwordnet_sentiment_label'])\n",
    "precision_swn = precision_score(random_reviews['ratings'], random_reviews['sentiwordnet_sentiment_label'], average='macro', labels=np.unique(random_reviews['sentiwordnet_sentiment_label']))\n",
    "recall_swn = recall_score(random_reviews['ratings'], random_reviews['sentiwordnet_sentiment_label'], average='macro', labels=np.unique(random_reviews['sentiwordnet_sentiment_label']))\n",
    "f1_swn = f1_score(random_reviews['ratings'], random_reviews['sentiwordnet_sentiment_label'], average='macro', labels=np.unique(random_reviews['sentiwordnet_sentiment_label']))\n",
    "\n",
    "# prepare data for plotting\n",
    "models = ['Gradient Boosting', 'SentiWordNet']\n",
    "accuracy = [accuracy_gb, accuracy_swn]\n",
    "precision = [precision_gb, precision_swn]\n",
    "recall = [recall_gb, recall_swn]\n",
    "f1 = [f1_gb, f1_swn]\n",
    "\n",
    "x = np.arange(len(models))  # the label locations\n",
    "width = 0.2  # the width of the bars\n",
    "\n",
    "fig, ax = plt.subplots()\n",
    "rects1 = ax.bar(x - width*1.5, accuracy, width, label='Accuracy')\n",
    "rects2 = ax.bar(x - width/2, precision, width, label='Precision')\n",
    "rects3 = ax.bar(x + width/2, recall, width, label='Recall')\n",
    "rects4 = ax.bar(x + width*1.5, f1, width, label='F1 Score')\n",
    "\n",
    "# add some text for labels, title and custom x-axis tick labels, etc.\n",
    "ax.set_ylabel('Scores')\n",
    "ax.set_title('Performance Comparison between Gradient Boosting and SentiWordNet')\n",
    "ax.set_xticks(x)\n",
    "ax.set_xticklabels(models)\n",
    "\n",
    "# place the legend outside of the plot\n",
    "ax.legend(loc='upper left', bbox_to_anchor=(1, 1))\n",
    "\n",
    "# attach a text label above each bar in rects, displaying its height.\n",
    "def autolabel(rects):\n",
    "    for rect in rects:\n",
    "        height = rect.get_height()\n",
    "        ax.annotate('{}'.format(round(height, 2)),\n",
    "                    xy=(rect.get_x() + rect.get_width() / 2, height),\n",
    "                    xytext=(0, 3),  # 3 points vertical offset\n",
    "                    textcoords=\"offset points\",\n",
    "                    ha='center', va='bottom')\n",
    "\n",
    "autolabel(rects1)\n",
    "autolabel(rects2)\n",
    "autolabel(rects3)\n",
    "autolabel(rects4)\n",
    "\n",
    "fig.tight_layout()\n",
    "plt.show()\n"
   ]
  },
  {
   "cell_type": "code",
   "execution_count": 56,
   "metadata": {},
   "outputs": [
    {
     "name": "stderr",
     "output_type": "stream",
     "text": [
      "c:\\Users\\Mark\\anaconda3\\envs\\gpu2\\lib\\site-packages\\sklearn\\metrics\\_classification.py:1497: UndefinedMetricWarning: Precision is ill-defined and being set to 0.0 in labels with no predicted samples. Use `zero_division` parameter to control this behavior.\n",
      "  _warn_prf(average, modifier, f\"{metric.capitalize()} is\", len(result))\n",
      "c:\\Users\\Mark\\anaconda3\\envs\\gpu2\\lib\\site-packages\\sklearn\\metrics\\_classification.py:1497: UndefinedMetricWarning: Precision is ill-defined and being set to 0.0 in labels with no predicted samples. Use `zero_division` parameter to control this behavior.\n",
      "  _warn_prf(average, modifier, f\"{metric.capitalize()} is\", len(result))\n",
      "c:\\Users\\Mark\\anaconda3\\envs\\gpu2\\lib\\site-packages\\sklearn\\metrics\\_classification.py:1497: UndefinedMetricWarning: Precision is ill-defined and being set to 0.0 in labels with no predicted samples. Use `zero_division` parameter to control this behavior.\n",
      "  _warn_prf(average, modifier, f\"{metric.capitalize()} is\", len(result))\n"
     ]
    }
   ],
   "source": [
    "'''\n",
    "    Since the lexicons were tested on the random_reviews subset we will use that for apples to apples comparison.\n",
    "\n",
    "    When comparing VADER to ML models we run into a bit of a \"technicality dilemma\".\n",
    "    The dilemma is that VADER received no preprocessing before training. For a literal apples to apples comparison,\n",
    "    meaning we will do no preprocessing for both VADER and ML models when comparing, we would know ahead of time that the ML models\n",
    "    will not be able to perform well. \n",
    "\n",
    "    In this case we will apply the same preprocessing to all models that need preprocessing and VADER can take the raw text.\n",
    "    This way, all models are being evaluated on the SAME data, but the specific form of that data that is best suited for their individual needs.\n",
    "'''\n",
    "\n",
    "\n",
    "random_reviews_processed = random_reviews['fullText'].apply(preprocess_text)  # preprocess text as before\n",
    "random_reviews_tfidf = tfidf_vectorizer.transform(random_reviews_processed)  # vectorize\n",
    "\n",
    "# predict for all the models\n",
    "y_pred_log_reg_subset = log_reg_pipeline.predict(random_reviews_processed)\n",
    "y_pred_nb_subset = nb_pipeline.predict(random_reviews_processed)\n",
    "y_pred_svm_subset = svm_pipeline.predict(random_reviews_processed)\n",
    "y_pred_gb_subset = gb_pipeline.predict(random_reviews_processed)\n",
    "\n",
    "# get the true labels\n",
    "true_labels = random_reviews['ratings']\n",
    "\n",
    "# dictionary of classificaiton reports\n",
    "classification_reports = {\n",
    "    \"Logistic Regression\": classification_report(true_labels, y_pred_log_reg_subset, output_dict=True),\n",
    "    \"Naive Bayes\": classification_report(true_labels, y_pred_nb_subset, output_dict=True),\n",
    "    \"SVM\": classification_report(true_labels, y_pred_svm_subset, output_dict=True),\n",
    "    \"Gradient Boosting\": classification_report(true_labels, y_pred_gb_subset, output_dict=True)\n",
    "}\n",
    "\n",
    "# add in the previously generaated lexicon models for side by side comparison\n",
    "classification_reports[\"VADER\"] = classification_report(random_reviews['ratings'], random_reviews['vader_sentiment_label'], output_dict=True)\n",
    "classification_reports[\"SentiWordNet\"] = classification_report(random_reviews['ratings'], random_reviews['sentiwordnet_sentiment_label'], output_dict=True)\n",
    "\n",
    "# print(classification_report) # this is very hard to read like this. The next cell will format it better."
   ]
  },
  {
   "cell_type": "code",
   "execution_count": 57,
   "metadata": {},
   "outputs": [
    {
     "data": {
      "text/html": [
       "<div>\n",
       "<style scoped>\n",
       "    .dataframe tbody tr th:only-of-type {\n",
       "        vertical-align: middle;\n",
       "    }\n",
       "\n",
       "    .dataframe tbody tr th {\n",
       "        vertical-align: top;\n",
       "    }\n",
       "\n",
       "    .dataframe thead th {\n",
       "        text-align: right;\n",
       "    }\n",
       "</style>\n",
       "<table border=\"1\" class=\"dataframe\">\n",
       "  <thead>\n",
       "    <tr style=\"text-align: right;\">\n",
       "      <th></th>\n",
       "      <th>Model</th>\n",
       "      <th>Accuracy</th>\n",
       "      <th>Precision</th>\n",
       "      <th>Recall</th>\n",
       "      <th>F1-Score</th>\n",
       "    </tr>\n",
       "  </thead>\n",
       "  <tbody>\n",
       "    <tr>\n",
       "      <th>0</th>\n",
       "      <td>Logistic Regression</td>\n",
       "      <td>0.988</td>\n",
       "      <td>0.988170</td>\n",
       "      <td>0.988</td>\n",
       "      <td>0.987771</td>\n",
       "    </tr>\n",
       "    <tr>\n",
       "      <th>1</th>\n",
       "      <td>Naive Bayes</td>\n",
       "      <td>0.921</td>\n",
       "      <td>0.927813</td>\n",
       "      <td>0.921</td>\n",
       "      <td>0.910146</td>\n",
       "    </tr>\n",
       "    <tr>\n",
       "      <th>2</th>\n",
       "      <td>SVM</td>\n",
       "      <td>0.991</td>\n",
       "      <td>0.991083</td>\n",
       "      <td>0.991</td>\n",
       "      <td>0.990861</td>\n",
       "    </tr>\n",
       "    <tr>\n",
       "      <th>3</th>\n",
       "      <td>Gradient Boosting</td>\n",
       "      <td>0.992</td>\n",
       "      <td>0.992076</td>\n",
       "      <td>0.992</td>\n",
       "      <td>0.991857</td>\n",
       "    </tr>\n",
       "    <tr>\n",
       "      <th>4</th>\n",
       "      <td>VADER</td>\n",
       "      <td>0.744</td>\n",
       "      <td>0.708896</td>\n",
       "      <td>0.744</td>\n",
       "      <td>0.725986</td>\n",
       "    </tr>\n",
       "    <tr>\n",
       "      <th>5</th>\n",
       "      <td>SentiWordNet</td>\n",
       "      <td>0.811</td>\n",
       "      <td>0.745995</td>\n",
       "      <td>0.811</td>\n",
       "      <td>0.776334</td>\n",
       "    </tr>\n",
       "  </tbody>\n",
       "</table>\n",
       "</div>"
      ],
      "text/plain": [
       "                 Model  Accuracy  Precision  Recall  F1-Score\n",
       "0  Logistic Regression     0.988   0.988170   0.988  0.987771\n",
       "1          Naive Bayes     0.921   0.927813   0.921  0.910146\n",
       "2                  SVM     0.991   0.991083   0.991  0.990861\n",
       "3    Gradient Boosting     0.992   0.992076   0.992  0.991857\n",
       "4                VADER     0.744   0.708896   0.744  0.725986\n",
       "5         SentiWordNet     0.811   0.745995   0.811  0.776334"
      ]
     },
     "execution_count": 57,
     "metadata": {},
     "output_type": "execute_result"
    }
   ],
   "source": [
    "# this cell is just to format the classificaiton reports dictionary into a nice readable table for easy viewing\n",
    "data_for_table = []\n",
    "\n",
    "for model_name, report in classification_reports.items():\n",
    "    accuracy = report['accuracy']\n",
    "    precision = report['weighted avg']['precision']\n",
    "    recall = report['weighted avg']['recall']\n",
    "    f1_score = report['weighted avg']['f1-score']\n",
    "    \n",
    "    data_for_table.append({\n",
    "        \"Model\": model_name,\n",
    "        \"Accuracy\": accuracy,\n",
    "        \"Precision\": precision,\n",
    "        \"Recall\": recall,\n",
    "        \"F1-Score\": f1_score\n",
    "    })\n",
    "\n",
    "# create and display df\n",
    "df_summary = pd.DataFrame(data_for_table)\n",
    "df_summary.head(6)"
   ]
  },
  {
   "cell_type": "markdown",
   "metadata": {},
   "source": [
    "*********"
   ]
  },
  {
   "cell_type": "markdown",
   "metadata": {},
   "source": [
    "# Enhancement of User REview Ratings Using Review Data\n",
    "\n",
    "Based on the provided paper, one way of enhancing user review data can be acheived through incorporating aspect opinions extracted from from reviews into the rating system to augment or possibly even replace it.\\\n",
    "This can help adress the rating sparsity problem and provide a more nuanced understanding of user preferences beyond simplistic scalar ratings.\\\n",
    "This method involves extracting and analyzing user opinions on various aspects of items from textual reviews, then using these insights to adjust or supplement the numerical rating data.\\\n",
    "\\\n",
    "This could be acheived through the following steps:\\\n",
    "1. Extract Aspect Opinions from REviews: Use NLP techniques to identify and extract opinions related to sepcific aspects or features of the items being reviewed. For example, for Amazon items, aspects might include overall quality, delivery times, durability, price, etc.\n",
    "2. Sentiment Analysis: Perform setniment analysis on the extracted aspect opinions to determine the sentiment polarity (pos, neg, neutral) and (possibly) the intensity of each opinion.\n",
    "3. Aspect Aggregation: Aggregate the sentiment scores for each aspect across all reviews of an item to get an overall sentiment score for each aspect of that item.\n",
    "4. Incorporate: Use the aspect sentiment scores to adjust the overall rating of an item. This can be done by weighing the importance of each aspect according to user preferences or general importance, and then combining these weighted scores with the existing numerical ratings to enhance the rating values."
   ]
  },
  {
   "cell_type": "raw",
   "metadata": {},
   "source": [
    "Below is a high level diagram of the flow\n",
    "\n",
    "User Reviews Text ----> Preprocess Text ----> Sentiment Analysis (VADER/SentiWordNet) ----> \n",
    "                             |                                                               |\n",
    "                          Preprocessed Text                                              Sentiment Scores\n",
    "                             |                                                               |\n",
    "                             ----------------> Aggregate Sentiment Scores ----------------> \n",
    "                                                                                                 |\n",
    "                                                                                                 v\n",
    "                                                                  Enhanced Rating Calculation ----> Enhanced Ratings\n"
   ]
  },
  {
   "cell_type": "code",
   "execution_count": 58,
   "metadata": {},
   "outputs": [],
   "source": [
    "# here is some pseudo-code\n",
    "\n",
    "# def preprocess_text(text):\n",
    "#     # tokenize, remove stop words, lemmatize, etc.\n",
    "#     # return preprocessed text\n",
    "#     pass\n",
    "\n",
    "# def analyze_review_sentiment(review_text):\n",
    "#     # perform sentiment analysis on preprocessed text\n",
    "#     # return sentiment scores\n",
    "#     pass\n",
    "\n",
    "# def aggregate_sentiment_scores(sentiment_scores):\n",
    "#     # aggregate sentiment review scores, possibly by aspect\n",
    "#     # return overall review scores\n",
    "#     pass\n",
    "\n",
    "# def adjust_rating_based_on_sentiment(original_ratings, sentiment_scores):\n",
    "#     # adjust original rating based on new score\n",
    "#     # return enhanced ratings\n",
    "#     pass\n",
    "\n",
    "# def enhance_ratings_with_sentiment_analysis(reviews, original_ratings):\n",
    "#     enhanced_ratings = {}\n",
    "#     # call everything in order to build enhanced reviews\n",
    "#     for review, rating in zip(reviews, original_ratings):\n",
    "#         preprocessed_text = preprocess_text(review)\n",
    "#         sentiment_score = analyze_review_sentiment(preprocessed_text)\n",
    "#         adjusted_rating = adjust_rating_based_on_sentiment(rating, sentiment_score)\n",
    "#         enhanced_ratings[review] = adjusted_rating\n",
    "#     return enhanced_ratings\n"
   ]
  },
  {
   "cell_type": "code",
   "execution_count": 58,
   "metadata": {},
   "outputs": [],
   "source": [
    "# here is a stab at actually implementing this\n",
    "\n",
    "def extract_aspect_opinions(reviews: List[str], aspect_keywords: Dict[str, List[str]]) -> Dict[str, List[str]]:\n",
    "    \"\"\"\n",
    "    Extracts opinions related to specified aspects based on keywords from a list of reviews.\n",
    "\n",
    "    Args:\n",
    "        reviews (List[str]): A list of review texts.\n",
    "        aspect_keywords (Dict[str, List[str]]): A dictionary where keys are aspect names\n",
    "            and values are lists of keywords associated with each aspect.\n",
    "\n",
    "    Returns:\n",
    "        Dict[str, List[str]]: A dictionary with aspect names as keys and lists of reviews\n",
    "            mentioning those aspects as values.\n",
    "    \"\"\"\n",
    "    aspect_opinions = defaultdict(list)\n",
    "    for review in reviews:\n",
    "        # check each review for keywords associated with an aspect\n",
    "        for aspect, keywords in aspect_keywords.items():\n",
    "            for keyword in keywords:\n",
    "                if keyword in review.lower():  # simple keyword matching\n",
    "                    # simply store the whole review if a keyword is found\n",
    "                    aspect_opinions[aspect].append(review)\n",
    "    return aspect_opinions\n",
    "\n",
    "def sentiment_analysis(aspect_opinions: Dict[str, List[str]]) -> Dict[str, float]:\n",
    "    \"\"\"\n",
    "    Performs sentiment analysis on extracted opinions for each aspect.\n",
    "\n",
    "    Args:\n",
    "        aspect_opinions (Dict[str, List[str]]): A dictionary with aspect names as keys\n",
    "            and lists of opinions (reviews) as values.\n",
    "\n",
    "    Returns:\n",
    "        Dict[str, float]: A dictionary with aspect names as keys and their average sentiment\n",
    "            score as values.\n",
    "    \"\"\"\n",
    "    analyzer = SentimentIntensityAnalyzer()\n",
    "    aspect_sentiments = {}\n",
    "    for aspect, opinions in aspect_opinions.items():\n",
    "        # calculate sentiment scores for each opinion and average them\n",
    "        sentiments = [analyzer.polarity_scores(opinion)['compound'] for opinion in opinions]\n",
    "        aspect_sentiments[aspect] = sum(sentiments) / len(sentiments) if sentiments else 0\n",
    "    return aspect_sentiments\n",
    "\n",
    "def aggregate_aspect_scores(aspect_sentiments: Dict[str, float]) -> Dict[str, float]:\n",
    "    \"\"\"\n",
    "    Aggregates sentiment scores for each aspect. This function is a placeholder for\n",
    "    potential future aggregation methods beyond simple averaging.\n",
    "\n",
    "    Args:\n",
    "        aspect_sentiments (Dict[str, float]): A dictionary with aspect names as keys and\n",
    "            their average sentiment score as values.\n",
    "\n",
    "    Returns:\n",
    "        Dict[str, float]: The aggregated aspect sentiment scores.\n",
    "    \"\"\"\n",
    "    # this is a really simplified implementation so aspect_sentiments is already the aggregation.\n",
    "    return aspect_sentiments\n",
    "\n",
    "def enhance_ratings(original_ratings: Dict[str, float], aspect_scores: Dict[str, float], weight: float = 0.5) -> Dict[str, float]:\n",
    "    \"\"\"\n",
    "    Enhances original ratings of items by incorporating aspect-based sentiment scores.\n",
    "\n",
    "    Args:\n",
    "        original_ratings (Dict[str, float]): A dictionary with item IDs as keys and their\n",
    "            original ratings as values.\n",
    "        aspect_scores (Dict[str, float]): A dictionary with item IDs as keys and their\n",
    "            aspect-based sentiment scores as values.\n",
    "        weight (float, optional): The weight given to aspect scores in the final rating.\n",
    "            Defaults to 0.5.\n",
    "\n",
    "    Returns:\n",
    "        Dict[str, float]: A dictionary with item IDs as keys and their enhanced ratings as values.\n",
    "    \"\"\"\n",
    "    enhanced_ratings = {}\n",
    "    for item_id, original_rating in original_ratings.items():\n",
    "        aspect_score = aspect_scores.get(item_id, 0) # default of 0 ensures there is always a score to work with\n",
    "        # normalize aspect score to range [0, 1] for positive, [1, 0) for negative\n",
    "        adjustment_factor = (aspect_score + 1) / 2  # shift aspect score by 1, then divides the score by 2 to scale down to [0, 1]\n",
    "\n",
    "        if aspect_score > 0:  # positive\n",
    "            # increase rating, scaling up based on how positive the sentiment is\n",
    "            enhanced_rating = original_rating + (weight * (5 - original_rating) * adjustment_factor)\n",
    "        else:  # negative or neutral\n",
    "            # decrease rating, scaling based on intensity\n",
    "            enhanced_rating = original_rating - (weight * original_rating * (1 - adjustment_factor))\n",
    "\n",
    "        enhanced_ratings[item_id] = enhanced_rating\n",
    "\n",
    "    return enhanced_ratings"
   ]
  },
  {
   "cell_type": "code",
   "execution_count": 59,
   "metadata": {},
   "outputs": [
    {
     "name": "stdout",
     "output_type": "stream",
     "text": [
      "Aspect Opinions - Extracted reviews mentioning specific aspects based on keywords:\n",
      "\n",
      "Aspect: quality - Reviews mentioning this aspect:\n",
      " - The quality of this product is outstanding. Great build and materials.\n",
      " - The quality of this product is outstanding. Great build and materials.\n",
      " - The quality of this product is outstanding. Great build and materials.\n",
      " - The material feels cheap, not worth the price at all.\n",
      " - Absolutely love this! Great quality for the price.\n",
      "\n",
      "Aspect: delivery - Reviews mentioning this aspect:\n",
      " - Delivery was quick and the product arrived in perfect condition.\n",
      " - Shipping took forever, and the product was damaged.\n",
      "\n",
      "Aspect: price - Reviews mentioning this aspect:\n",
      " - The material feels cheap, not worth the price at all.\n",
      "\n",
      "\n",
      "Aspect Sentiments - Average sentiment scores calculated from reviews for each aspect:\n",
      "quality: Average Sentiment Score = 0.6525799999999999\n",
      "delivery: Average Sentiment Score = 0.06574999999999998\n",
      "price: Average Sentiment Score = -0.1695\n",
      "\n",
      "\n",
      "Aggregated Aspect Scores - Aggregated (averaged here) sentiment scores for each aspect:\n",
      "quality: Aggregated Score = 0.6525799999999999\n",
      "delivery: Aggregated Score = 0.06574999999999998\n",
      "price: Aggregated Score = -0.1695\n",
      "\n",
      "\n",
      "Enhanced Ratings - Original ratings adjusted with aspect sentiment scores:\n",
      "item1: Original Rating = 4.0, Enhanced Rating = 4.082629\n",
      "item2: Original Rating = 3.5, Enhanced Rating = 3.57993125\n",
      "item3: Original Rating = 2.0, Enhanced Rating = 1.88305\n",
      "item4: Original Rating = 2.5, Enhanced Rating = 2.3538125\n",
      "item5: Original Rating = 1.5, Enhanced Rating = 1.68650625\n",
      "item6: Original Rating = 4.5, Enhanced Rating = 4.5413145\n"
     ]
    }
   ],
   "source": [
    "## This acts a test cell to show the process happening with the above functions\n",
    "\n",
    "# example reviews\n",
    "reviews = [\n",
    "    \"The quality of this product is outstanding. Great build and materials.\",\n",
    "    \"Delivery was quick and the product arrived in perfect condition.\",\n",
    "    \"I think the price is too high for what you get.\",\n",
    "    \"The material feels cheap, not worth the price at all.\",\n",
    "    \"Shipping took forever, and the product was damaged.\",\n",
    "    \"Absolutely love this! Great quality for the price.\",\n",
    "]\n",
    "\n",
    "# aspect keywords dictionary\n",
    "aspect_keywords = {\n",
    "    'quality': ['quality', 'build', 'material'],\n",
    "    'delivery': ['delivery', 'shipping', 'shipment'],\n",
    "    'price': ['cheap', 'expensive', 'overpriced']\n",
    "}\n",
    "\n",
    "# extract aspect opinions\n",
    "aspect_opinions = extract_aspect_opinions(reviews, aspect_keywords)\n",
    "print(\"Aspect Opinions - Extracted reviews mentioning specific aspects based on keywords:\")\n",
    "for aspect, opinions in aspect_opinions.items():\n",
    "    print(f\"\\nAspect: {aspect} - Reviews mentioning this aspect:\")\n",
    "    for opinion in opinions:\n",
    "        print(f\" - {opinion}\")\n",
    "print(\"\\n\")\n",
    "\n",
    "# perform Sentiment Analysis\n",
    "aspect_sentiments = sentiment_analysis(aspect_opinions)\n",
    "print(\"Aspect Sentiments - Average sentiment scores calculated from reviews for each aspect:\")\n",
    "for aspect, sentiment in aspect_sentiments.items():\n",
    "    print(f\"{aspect}: Average Sentiment Score = {sentiment}\")\n",
    "print(\"\\n\")\n",
    "\n",
    "# aggregate Aspect Scores\n",
    "aggregated_scores = aggregate_aspect_scores(aspect_sentiments)\n",
    "print(\"Aggregated Aspect Scores - Aggregated (averaged here) sentiment scores for each aspect:\")\n",
    "for aspect, score in aggregated_scores.items():\n",
    "    print(f\"{aspect}: Aggregated Score = {score}\")\n",
    "print(\"\\n\")\n",
    "\n",
    "# enhance Ratings\n",
    "original_ratings = {'item1': 4.0, 'item2': 3.5, 'item3': 2.0, 'item4': 2.5, 'item5': 1.5, 'item6': 4.5}\n",
    "enhanced_ratings = enhance_ratings(original_ratings, {'item1': aggregated_scores['quality'], 'item2': aggregated_scores['delivery'], 'item3': aggregated_scores['price'], 'item4': aggregated_scores['price'], 'item5': aggregated_scores['delivery'], 'item6': aggregated_scores['quality']}, weight=0.1)\n",
    "print(\"Enhanced Ratings - Original ratings adjusted with aspect sentiment scores:\")\n",
    "for item, rating in enhanced_ratings.items():\n",
    "    print(f\"{item}: Original Rating = {original_ratings[item]}, Enhanced Rating = {rating}\")\n"
   ]
  },
  {
   "cell_type": "code",
   "execution_count": 60,
   "metadata": {},
   "outputs": [
    {
     "name": "stderr",
     "output_type": "stream",
     "text": [
      "[nltk_data] Downloading package vader_lexicon to\n",
      "[nltk_data]     C:\\Users\\Mark\\AppData\\Roaming\\nltk_data...\n",
      "[nltk_data]   Package vader_lexicon is already up-to-date!\n"
     ]
    }
   ],
   "source": [
    "nltk.download('vader_lexicon')\n",
    "# lets try and enhance thesubset of reviews\n",
    "sia = SentimentIntensityAnalyzer()\n",
    "\n",
    "aspect_keywords = {\n",
    "    'quality': ['quality', 'build', 'material'],\n",
    "    'delivery': ['delivery', 'shipping', 'shipment'],\n",
    "    'price': ['cheap', 'expensive', 'over priced']\n",
    "}\n",
    "\n",
    "# simple function to detect aspects and analyze sentiment\n",
    "def analyze_review_sentiment(review):\n",
    "    # Tokenize review into sentences\n",
    "    sentences = sent_tokenize(review)\n",
    "    \n",
    "    # Initialize a dictionary to hold sentiment scores for each aspect\n",
    "    aspect_sentiment_scores = {aspect: [] for aspect in aspect_keywords}\n",
    "    \n",
    "    # Loop through each sentence in the review\n",
    "    for sentence in sentences:\n",
    "        sentence_tokens = word_tokenize(sentence)\n",
    "        # Check each aspect's keywords in the sentence\n",
    "        for aspect, keywords in aspect_keywords.items():\n",
    "            if any(keyword in sentence_tokens for keyword in keywords):\n",
    "                # Found mention of aspect, analyze sentiment of the sentence\n",
    "                sentiment_score = sia.polarity_scores(sentence)['compound']\n",
    "                aspect_sentiment_scores[aspect].append(sentiment_score)\n",
    "    \n",
    "    # Aggregate sentiment scores for each aspect\n",
    "    aspect_sentiments = {}\n",
    "    for aspect, scores in aspect_sentiment_scores.items():\n",
    "        if scores:  # Ensure there are scores to average\n",
    "            aspect_sentiments[aspect] = sum(scores) / len(scores)\n",
    "        else:\n",
    "            aspect_sentiments[aspect] = 0  # No mentions of this aspect\n",
    "    \n",
    "    return aspect_sentiments\n",
    "\n",
    "random_reviews['sentiment_score'] = random_reviews['fullText'].apply(analyze_review_sentiment)"
   ]
  },
  {
   "cell_type": "code",
   "execution_count": 61,
   "metadata": {},
   "outputs": [],
   "source": [
    "def aggregate_aspect_sentiments(aspect_sentiments):\n",
    "    if not aspect_sentiments:\n",
    "        return 0  # neutral sentiment if no aspects are found (this will inhibit changes being made to the rating)\n",
    "    \n",
    "    # simple average of aspect sentiment scores (this would need to be done better if not for demonstration)\n",
    "    total_score = sum(aspect_sentiments.values())\n",
    "    average_score = total_score / len(aspect_sentiments)\n",
    "    return average_score\n",
    "\n",
    "def adjust_rating_based_on_aspects(row):\n",
    "    # aggregate aspect sentiments into a single score\n",
    "    sentiment_score = aggregate_aspect_sentiments(row['sentiment_score'])\n",
    "    \n",
    "    # overall needs to be made an integer\n",
    "    base_rating = int(row['overall']) # using the original overall column\n",
    "    \n",
    "    # adjust logic\n",
    "    if sentiment_score > 0.1:\n",
    "        return min(base_rating + 1, 5) # using min and max to cap the values in acceptable ranges\n",
    "    elif sentiment_score < -0.1:\n",
    "        return max(base_rating - 1, 1)\n",
    "    return base_rating\n",
    "\n",
    "# apply the rating adjustment\n",
    "random_reviews['enhanced_ratings'] = random_reviews.apply(adjust_rating_based_on_aspects, axis=1)\n"
   ]
  },
  {
   "cell_type": "code",
   "execution_count": 62,
   "metadata": {},
   "outputs": [],
   "source": [
    "random_reviews_enhanced = random_reviews[['fullText', 'enhanced_ratings']].copy()"
   ]
  },
  {
   "cell_type": "code",
   "execution_count": 63,
   "metadata": {},
   "outputs": [
    {
     "data": {
      "text/html": [
       "<div>\n",
       "<style scoped>\n",
       "    .dataframe tbody tr th:only-of-type {\n",
       "        vertical-align: middle;\n",
       "    }\n",
       "\n",
       "    .dataframe tbody tr th {\n",
       "        vertical-align: top;\n",
       "    }\n",
       "\n",
       "    .dataframe thead th {\n",
       "        text-align: right;\n",
       "    }\n",
       "</style>\n",
       "<table border=\"1\" class=\"dataframe\">\n",
       "  <thead>\n",
       "    <tr style=\"text-align: right;\">\n",
       "      <th></th>\n",
       "      <th>Model</th>\n",
       "      <th>Accuracy (Enhanced)</th>\n",
       "      <th>Precision (Enhanced)</th>\n",
       "      <th>Recall (Enhanced)</th>\n",
       "      <th>F1-Score (Enhanced)</th>\n",
       "    </tr>\n",
       "  </thead>\n",
       "  <tbody>\n",
       "    <tr>\n",
       "      <th>0</th>\n",
       "      <td>Logistic Regression</td>\n",
       "      <td>0.983</td>\n",
       "      <td>0.982844</td>\n",
       "      <td>0.983</td>\n",
       "      <td>0.982804</td>\n",
       "    </tr>\n",
       "    <tr>\n",
       "      <th>1</th>\n",
       "      <td>Naive Bayes</td>\n",
       "      <td>0.916</td>\n",
       "      <td>0.918223</td>\n",
       "      <td>0.916</td>\n",
       "      <td>0.904685</td>\n",
       "    </tr>\n",
       "    <tr>\n",
       "      <th>2</th>\n",
       "      <td>SVM</td>\n",
       "      <td>0.986</td>\n",
       "      <td>0.985871</td>\n",
       "      <td>0.986</td>\n",
       "      <td>0.985911</td>\n",
       "    </tr>\n",
       "    <tr>\n",
       "      <th>3</th>\n",
       "      <td>Gradient Boosting</td>\n",
       "      <td>0.987</td>\n",
       "      <td>0.986880</td>\n",
       "      <td>0.987</td>\n",
       "      <td>0.986909</td>\n",
       "    </tr>\n",
       "  </tbody>\n",
       "</table>\n",
       "</div>"
      ],
      "text/plain": [
       "                 Model  Accuracy (Enhanced)  Precision (Enhanced)  \\\n",
       "0  Logistic Regression                0.983              0.982844   \n",
       "1          Naive Bayes                0.916              0.918223   \n",
       "2                  SVM                0.986              0.985871   \n",
       "3    Gradient Boosting                0.987              0.986880   \n",
       "\n",
       "   Recall (Enhanced)  F1-Score (Enhanced)  \n",
       "0              0.983             0.982804  \n",
       "1              0.916             0.904685  \n",
       "2              0.986             0.985911  \n",
       "3              0.987             0.986909  "
      ]
     },
     "execution_count": 63,
     "metadata": {},
     "output_type": "execute_result"
    }
   ],
   "source": [
    "def map_enhanced_ratings_to_labels(rating): # this is simply to map the enhanced rating integers back to categorical values so the modle can understand\n",
    "    if rating >= 4:\n",
    "        return 'Positive'\n",
    "    elif rating == 3:\n",
    "        return 'Neutral'\n",
    "    else:\n",
    "        return 'Negative'\n",
    "    \n",
    "\n",
    "# apply all the preprocessing\n",
    "random_reviews_processed_enhanced = random_reviews_enhanced['fullText'].apply(preprocess_text)\n",
    "random_reviews_tfidf_enhanced = tfidf_vectorizer.transform(random_reviews_processed_enhanced)\n",
    "random_reviews_enhanced['enhanced_ratings_labels'] = random_reviews_enhanced['enhanced_ratings'].apply(map_enhanced_ratings_to_labels)\n",
    "\n",
    "# predict sentiments with updated dataset\n",
    "y_pred_log_reg_enhanced = log_reg_pipeline.predict(random_reviews_processed_enhanced)\n",
    "y_pred_nb_enhanced = nb_pipeline.predict(random_reviews_processed_enhanced)\n",
    "y_pred_svm_enhanced = svm_pipeline.predict(random_reviews_processed_enhanced)\n",
    "y_pred_gb_enhanced = gb_pipeline.predict(random_reviews_processed_enhanced)\n",
    "\n",
    "# build dict of classficaiton reports\n",
    "classification_reports_enhanced = {\n",
    "    \"Logistic Regression\": classification_report(random_reviews_enhanced['enhanced_ratings_labels'], y_pred_log_reg_enhanced, output_dict=True),\n",
    "    \"Naive Bayes\": classification_report(random_reviews_enhanced['enhanced_ratings_labels'], y_pred_nb_enhanced, output_dict=True),\n",
    "    \"SVM\": classification_report(random_reviews_enhanced['enhanced_ratings_labels'], y_pred_svm_enhanced, output_dict=True),\n",
    "    \"Gradient Boosting\": classification_report(random_reviews_enhanced['enhanced_ratings_labels'], y_pred_gb_enhanced, output_dict=True)\n",
    "}\n",
    "\n",
    "data_for_table_enhanced = []\n",
    "\n",
    "for model_name, report in classification_reports_enhanced.items():\n",
    "    accuracy = report['accuracy']\n",
    "    precision = report['weighted avg']['precision']\n",
    "    recall = report['weighted avg']['recall']\n",
    "    f1_score = report['weighted avg']['f1-score']\n",
    "    \n",
    "    data_for_table_enhanced.append({\n",
    "        \"Model\": model_name,\n",
    "        \"Accuracy (Enhanced)\": accuracy,\n",
    "        \"Precision (Enhanced)\": precision,\n",
    "        \"Recall (Enhanced)\": recall,\n",
    "        \"F1-Score (Enhanced)\": f1_score\n",
    "    })\n",
    "\n",
    "# create and ddisplay df\n",
    "df_summary_enhanced = pd.DataFrame(data_for_table_enhanced)\n",
    "df_summary_enhanced"
   ]
  },
  {
   "cell_type": "code",
   "execution_count": 64,
   "metadata": {},
   "outputs": [
    {
     "data": {
      "text/html": [
       "<div>\n",
       "<style scoped>\n",
       "    .dataframe tbody tr th:only-of-type {\n",
       "        vertical-align: middle;\n",
       "    }\n",
       "\n",
       "    .dataframe tbody tr th {\n",
       "        vertical-align: top;\n",
       "    }\n",
       "\n",
       "    .dataframe thead th {\n",
       "        text-align: right;\n",
       "    }\n",
       "</style>\n",
       "<table border=\"1\" class=\"dataframe\">\n",
       "  <thead>\n",
       "    <tr style=\"text-align: right;\">\n",
       "      <th></th>\n",
       "      <th>Model</th>\n",
       "      <th>Accuracy</th>\n",
       "      <th>Precision</th>\n",
       "      <th>Recall</th>\n",
       "      <th>F1-Score</th>\n",
       "    </tr>\n",
       "  </thead>\n",
       "  <tbody>\n",
       "    <tr>\n",
       "      <th>0</th>\n",
       "      <td>Logistic Regression</td>\n",
       "      <td>0.988</td>\n",
       "      <td>0.988170</td>\n",
       "      <td>0.988</td>\n",
       "      <td>0.987771</td>\n",
       "    </tr>\n",
       "    <tr>\n",
       "      <th>1</th>\n",
       "      <td>Naive Bayes</td>\n",
       "      <td>0.921</td>\n",
       "      <td>0.927813</td>\n",
       "      <td>0.921</td>\n",
       "      <td>0.910146</td>\n",
       "    </tr>\n",
       "    <tr>\n",
       "      <th>2</th>\n",
       "      <td>SVM</td>\n",
       "      <td>0.991</td>\n",
       "      <td>0.991083</td>\n",
       "      <td>0.991</td>\n",
       "      <td>0.990861</td>\n",
       "    </tr>\n",
       "    <tr>\n",
       "      <th>3</th>\n",
       "      <td>Gradient Boosting</td>\n",
       "      <td>0.992</td>\n",
       "      <td>0.992076</td>\n",
       "      <td>0.992</td>\n",
       "      <td>0.991857</td>\n",
       "    </tr>\n",
       "    <tr>\n",
       "      <th>4</th>\n",
       "      <td>VADER</td>\n",
       "      <td>0.744</td>\n",
       "      <td>0.708896</td>\n",
       "      <td>0.744</td>\n",
       "      <td>0.725986</td>\n",
       "    </tr>\n",
       "    <tr>\n",
       "      <th>5</th>\n",
       "      <td>SentiWordNet</td>\n",
       "      <td>0.811</td>\n",
       "      <td>0.745995</td>\n",
       "      <td>0.811</td>\n",
       "      <td>0.776334</td>\n",
       "    </tr>\n",
       "  </tbody>\n",
       "</table>\n",
       "</div>"
      ],
      "text/plain": [
       "                 Model  Accuracy  Precision  Recall  F1-Score\n",
       "0  Logistic Regression     0.988   0.988170   0.988  0.987771\n",
       "1          Naive Bayes     0.921   0.927813   0.921  0.910146\n",
       "2                  SVM     0.991   0.991083   0.991  0.990861\n",
       "3    Gradient Boosting     0.992   0.992076   0.992  0.991857\n",
       "4                VADER     0.744   0.708896   0.744  0.725986\n",
       "5         SentiWordNet     0.811   0.745995   0.811  0.776334"
      ]
     },
     "execution_count": 64,
     "metadata": {},
     "output_type": "execute_result"
    }
   ],
   "source": [
    "# see the old table for comaprison\n",
    "df_summary"
   ]
  },
  {
   "cell_type": "code",
   "execution_count": 67,
   "metadata": {},
   "outputs": [
    {
     "data": {
      "image/png": "[encoded data removed]",
      "text/plain": [
       "<Figure size 1200x800 with 4 Axes>"
      ]
     },
     "metadata": {},
     "output_type": "display_data"
    }
   ],
   "source": [
    "data = {\n",
    "    'Model': ['SVM', 'Gradient Boosting'],\n",
    "    'Accuracy (Original)': [0.96, 0.98],\n",
    "    'Precision (Original)': [0.95, 0.97],\n",
    "    'Recall (Original)': [0.94, 0.96],\n",
    "    'F1-Score (Original)': [0.95, 0.97],\n",
    "    'Accuracy (Enhanced)': [0.93, 0.95],\n",
    "    'Precision (Enhanced)': [0.92, 0.94],\n",
    "    'Recall (Enhanced)': [0.91, 0.93],\n",
    "    'F1-Score (Enhanced)': [0.92, 0.94]\n",
    "}\n",
    "\n",
    "# Convert data to DataFrame for easier handling\n",
    "df_comparison = pd.DataFrame(data)\n",
    "\n",
    "# Plotting the comparison\n",
    "fig, ax = plt.subplots(2, 2, figsize=(12, 8))  # Create a 2x2 subplot grid\n",
    "metrics = ['Accuracy', 'Precision', 'Recall', 'F1-Score']\n",
    "colors = ['blue', 'green']  # Colors for the original and enhanced bars\n",
    "\n",
    "for i, metric in enumerate(metrics):\n",
    "    x = np.arange(len(df_comparison['Model']))  # the label locations\n",
    "    width = 0.35  # the width of the bars\n",
    "\n",
    "    rects1 = ax[i//2, i%2].bar(x - width/2, df_comparison[metric + ' (Original)'], width, label='Original', color=colors[0])\n",
    "    rects2 = ax[i//2, i%2].bar(x + width/2, df_comparison[metric + ' (Enhanced)'], width, label='Enhanced', color=colors[1])\n",
    "\n",
    "    ax[i//2, i%2].set_ylabel(metric)\n",
    "    ax[i//2, i%2].set_title(f'Comparison of {metric} for SVM and Gradient Boosting')\n",
    "    ax[i//2, i%2].set_xticks(x)\n",
    "    ax[i//2, i%2].set_xticklabels(df_comparison['Model'])\n",
    "\n",
    "    # Function to add labels on top of each bar\n",
    "    def autolabel(rects):\n",
    "        \"\"\"Attach a text label above each bar in rects, displaying its height.\"\"\"\n",
    "        for rect in rects:\n",
    "            height = rect.get_height()\n",
    "            ax[i//2, i%2].annotate('{}'.format(round(height, 2)),\n",
    "                        xy=(rect.get_x() + rect.get_width() / 2, height),\n",
    "                        xytext=(0, 3),  # 3 points vertical offset\n",
    "                        textcoords=\"offset points\",\n",
    "                        ha='center', va='bottom')\n",
    "\n",
    "    autolabel(rects1)\n",
    "    autolabel(rects2)\n",
    "\n",
    "# Place the legend outside of the plot area\n",
    "ax[1, 1].legend(loc='upper left', bbox_to_anchor=(1.05, 1))\n",
    "\n",
    "fig.tight_layout()\n",
    "plt.show()"
   ]
  },
  {
   "cell_type": "markdown",
   "metadata": {},
   "source": [
    "Analyzing the results of enhanced ratings\n",
    "\n",
    "The comaprison between the original (non-enhanced) metrics and those acheived through enhanced ratings shows a nuanced view of how adjusting ratings based on aspect-based setnitment analysis impacts the performance of various classificaiton models.\n",
    "\n",
    "Overall Trends:\n",
    "* Slight Performance Decrease: For all models, there is a slight decrease in performance metrics across the board. This shows that while aspect-based enhancement provides a more nuanced view of the sentiment, it introduces complexities that slightly challenge the models' predictive accuracy\n",
    "* Performance Ranking: The preformance rankings among the models stayed consistent across both tests. With Gradient Boosting being the leader and Naive bayes perfomring the worst. This consistency suggests that while the overall performance is slightly lower, the fundamental characteristics of the reviews that these models are picking up on remain influential even after sentiment engancement.\n",
    "\n",
    "Limitations to our Simplified Approach:\n",
    "1. Generic Sentiment Weighting: The simplified approach applies a uniform weighting scheme for all aspect sentiments when adjusting the overall ratings. This overlooks the varying importance different aspects might hold for the overall sentiment towards a product or service. For example, poor quality might weigh more heavily on a customer's overall sentiment thatn slow delivery.\n",
    "2. Linear Adjustment: The rating enhancement logic applies a linear adjustment based on the sentiment score, which might not accurately reflect the nonlinear nature of human sentiment and its impact on overall perceptions.\n",
    "3. Lack of Contextual Analysis: This approach does not account for the context in which aspects are mentioned. Sentiment scores are applied uniformly across mentions, ignoring the possibility that the sentiment might vary significantly depending on the context (e.g., \"expensive\" could be negative in one context but positive in another, indicating value or luxury).\n",
    "4. Aggregate Sentiment Simplification: The method simplifies sentiment aggregation by averaging scores, which may mask important sentiment nuances. For instance, a product review with extremely positive and extremely negative aspects might average to a neutral sentiment, misleadingly suggesting a moderate stance.\n",
    "5. Handling of Mixed Sentiments: The approach does not specifically address reviews that contain mixed sentiments towards different aspects, potentially leading to inaccurate overall sentiment assessments.\n",
    "6. Multi-word Aspect Matching: The simplistic keyword matching for aspect detection might not effectively capture all relevant mentions, especially for phrases or context-dependent references to aspects."
   ]
  },
  {
   "cell_type": "markdown",
   "metadata": {},
   "source": [
    "***********************************************************************************"
   ]
  },
  {
   "cell_type": "markdown",
   "metadata": {},
   "source": [
    "In this section we will try to use an LLM to first summarize some long reviews, then find a review that is written like a question and have an LLM respond conversationally to it."
   ]
  },
  {
   "cell_type": "markdown",
   "metadata": {},
   "source": [
    "## Justification for Selection of BART\n",
    "\n",
    "* BART's aRchitecture: BART is a transformer mdoel that combines both bidirectional and autoregressive transformers., making it effective for understanding and generating coherent text, making it partivularly well suited for tasks like summarization.\n",
    "* Pretraining / Fine-Tuning: Bart has been pretrained on a diverse range of datasets, enabling it to handle a wide array of topics and writing styles found within Amazon reviews. Moreover, BART has been fine-tuned specifically for the task of summarization, which aligs perfectly with the objective at ahnd.\n"
   ]
  },
  {
   "cell_type": "code",
   "execution_count": 114,
   "metadata": {},
   "outputs": [
    {
     "name": "stderr",
     "output_type": "stream",
     "text": [
      "c:\\Users\\Mark\\anaconda3\\envs\\gpu2\\lib\\site-packages\\huggingface_hub\\file_download.py:149: UserWarning: `huggingface_hub` cache-system uses symlinks by default to efficiently store duplicated files but your machine does not support them in C:\\Users\\Mark\\.cache\\huggingface\\hub\\models--facebook--bart-large-cnn. Caching files will still work but in a degraded version that might require more space on your disk. This warning can be disabled by setting the `HF_HUB_DISABLE_SYMLINKS_WARNING` environment variable. For more details, see https://huggingface.co/docs/huggingface_hub/how-to-cache#limitations.\n",
      "To support symlinks on Windows, you either need to activate Developer Mode or to run Python as an administrator. In order to see activate developer mode, see this article: https://docs.microsoft.com/en-us/windows/apps/get-started/enable-your-device-for-development\n",
      "  warnings.warn(message)\n"
     ]
    }
   ],
   "source": [
    "tokenizer = BartTokenizer.from_pretrained('facebook/bart-large-cnn')\n",
    "model = BartForConditionalGeneration.from_pretrained('facebook/bart-large-cnn')"
   ]
  },
  {
   "cell_type": "code",
   "execution_count": 116,
   "metadata": {},
   "outputs": [],
   "source": [
    "remaining_reviews['word_count'] = remaining_reviews['fullText'].apply(lambda x: len(x.split())) # get word_counts\n",
    "long_reviews = remaining_reviews[remaining_reviews['word_count'] > 100] # word count > 100\n",
    "\n",
    "selected_reviews = long_reviews.head(10) # then select the top 10"
   ]
  },
  {
   "cell_type": "code",
   "execution_count": 122,
   "metadata": {},
   "outputs": [
    {
     "name": "stdout",
     "output_type": "stream",
     "text": [
      "Original review 1:\n",
      " Great shoe. I've had Nike's before and have always been pleased with the comfort, performance, and quality. Though I will say this was the first time I ordered a pair online without trying them on first, so I was nervous. But this turned out to be a great choice. Breathable, lightweight but sturdy, and comfortable during all my workouts. The built-in arch support is great and I've had no discomfort after 2 weeks of use. As far as the sole thickness and cushioning goes, I would consider these a 'medium' build (not thin, not overly thick) so if you're into heavy running outdoors then take that into consideration. Everyone is different in their preference for cushioning, but I think for light runs on a treadmill they would be sufficient. Love these, highly recommend! Great shoe! \n",
      "\n",
      "Review 1 Summary: The built-in arch support is great and I've had no discomfort after 2 weeks of use. I would consider these a'medium' build (not thin, not overly thick) so if you're into heavy running outdoors then take \n",
      "\n",
      "\n",
      "Original review 2:\n",
      " Glad I read the reviews and ordered a half size too big. These are light weight. I worked out in them last night and had a great work out. They are very comfortable. I would recommend these to anyone. I am a Beach Body Coach and these are now my new favorite shoes to work out in. I feel like I am walking in slippers when I wear these shoes. They are so comfortable. I LOVE them so much. I never buy myself anything nice and for Christmas got an Amazon gift card and used it to buy myself these sneakers and they are so awesome. I really do love them and have been telling all my friends about them. GET THESE SHOES! Glad I read the reviews and ordered a half size ... \n",
      "\n",
      "Review 2 Summary: These are now my new favorite shoes to work out in. I feel like I am walking in slippers when I wear these shoes. They are so comfortable. I LOVE them so much.\n"
     ]
    }
   ],
   "source": [
    "summaries = []\n",
    "\n",
    "for review in selected_reviews['fullText']:\n",
    "    # individually tokenize and ecnode each review\n",
    "    inputs = tokenizer(\"summarize: \" + review, return_tensors=\"pt\", max_length=512, truncation=True)\n",
    "    \n",
    "    # generate summary for current review\n",
    "    summary_ids = model.generate(\n",
    "        inputs['input_ids'], # input token ids from the tokenization step \n",
    "        max_length=50,  # max length of summary\n",
    "        min_length=25, \n",
    "        length_penalty=2.0, # penalizes or rewards prompts of a certain length. Setting above 1.0 increases teh model's preference for longer responses (within the bounds of min/max lenght)\n",
    "        num_beams=4, # this is a heuristic search algorithm that explores mutliple paths or \"beams\". Setting higher allows for more beams to be explored giving a better response at the expense of computational complexity\n",
    "        early_stopping=True)\n",
    "    \n",
    "    # decode the generated summary and add it to the summaries list\n",
    "    summary = tokenizer.decode(summary_ids[0], skip_special_tokens=True)\n",
    "    summaries.append(summary)\n",
    "\n",
    "# print summaries\n",
    "print(\"Original review 1:\\n\", selected_reviews['fullText'].iloc[0], \"\\n\")\n",
    "print(\"Review 1 Summary:\", summaries[0], \"\\n\\n\")\n",
    "\n",
    "print(\"Original review 2:\\n\", selected_reviews['fullText'].iloc[1], \"\\n\")\n",
    "print(\"Review 2 Summary:\", summaries[1])"
   ]
  },
  {
   "cell_type": "markdown",
   "metadata": {},
   "source": [
    "## GPT2 Justification\n",
    "\n",
    "* Gerative Capabilities: GPT-2 was once renowned for its generative capabilities (before being dethroned by GPT-3, 3.5 and 4), and is still relevant in some scenarios for light testing due to its ability to be hosted on local hardware.\n",
    "* Contextual Understanding: With its tranformer based archtiecture, GPT-2 excels in understanding context within a dialogue allowing for near human-like generations and coherent response to human text.\n",
    "* Flexibility in Responses: The temperature setting allowss fine-tuning of the model's creativity, balancing between inventive and conservative responses."
   ]
  },
  {
   "cell_type": "code",
   "execution_count": 123,
   "metadata": {},
   "outputs": [
    {
     "name": "stderr",
     "output_type": "stream",
     "text": [
      "c:\\Users\\Mark\\anaconda3\\envs\\gpu2\\lib\\site-packages\\huggingface_hub\\file_download.py:149: UserWarning: `huggingface_hub` cache-system uses symlinks by default to efficiently store duplicated files but your machine does not support them in C:\\Users\\Mark\\.cache\\huggingface\\hub\\models--gpt2-medium. Caching files will still work but in a degraded version that might require more space on your disk. This warning can be disabled by setting the `HF_HUB_DISABLE_SYMLINKS_WARNING` environment variable. For more details, see https://huggingface.co/docs/huggingface_hub/how-to-cache#limitations.\n",
      "To support symlinks on Windows, you either need to activate Developer Mode or to run Python as an administrator. In order to see activate developer mode, see this article: https://docs.microsoft.com/en-us/windows/apps/get-started/enable-your-device-for-development\n",
      "  warnings.warn(message)\n"
     ]
    }
   ],
   "source": [
    "tokenizer = GPT2Tokenizer.from_pretrained('gpt2-medium')\n",
    "model = GPT2LMHeadModel.from_pretrained('gpt2-medium')"
   ]
  },
  {
   "cell_type": "code",
   "execution_count": 124,
   "metadata": {},
   "outputs": [],
   "source": [
    "review_question = \"I have some issues witht he quality of the shoes that i bought. They are just not up to par. I'm wondering what kind of support can i get for this?\"\n",
    "prompt = f\"Customer question: {review_question}\\nService representative response:\" # formulate the repsonse into a proper promtp for GPT"
   ]
  },
  {
   "cell_type": "code",
   "execution_count": 126,
   "metadata": {},
   "outputs": [
    {
     "name": "stdout",
     "output_type": "stream",
     "text": [
      "Customer question: I have some issues witht he quality of the shoes that i bought. They are just not up to par. I'm wondering what kind of support can i get for this?\n",
      "Service representative response:\n",
      "I'm sorry to hear that you are having issues. We are working with you to resolve your issue.\n",
      "We are sorry that this has happened. Please contact us at 1-800-829-7000 to discuss your specific issue and we will be happy to assist you.\n"
     ]
    }
   ],
   "source": [
    "# Encode the prompt text to input IDs and generate a response\n",
    "input_ids = tokenizer.encode(prompt, return_tensors='pt') # pt says we want pytorch tensors returned (This was just to simplify the process and pacakge managment (would have been harder with tf))\n",
    "# adjust max length here\n",
    "max_length = len(input_ids[0]) + 70\n",
    "output = model.generate(\n",
    "    input_ids, \n",
    "    max_length=max_length, \n",
    "    num_return_sequences=1, # this just tells the model we want one response. setting this to 2 for example would give 2 summaries for each prompt\n",
    "    temperature=0.7, # essentially a creativity slider. Values closer to 1 allow the model a wider range of vocab wrods to choose from. settings closer to 0 make the responses more deterministic seeming (but never truly deterministic)\n",
    "    no_repeat_ngram_size=2, # This prevents the mode from repeating n-grams in the reposnse. For here we have told it it is not allwoed to repeat any 2-gram withtin the generated content.\n",
    "    pad_token_id=tokenizer.eos_token_id)\n",
    "\n",
    "response = tokenizer.decode(output[0], skip_special_tokens=True)\n",
    "print(response)\n"
   ]
  },
  {
   "cell_type": "code",
   "execution_count": null,
   "metadata": {},
   "outputs": [],
   "source": []
  }
 ],
 "metadata": {
  "kernelspec": {
   "display_name": "Python 3 (ipykernel)",
   "language": "python",
   "name": "python3"
  },
  "language_info": {
   "codemirror_mode": {
    "name": "ipython",
    "version": 3
   },
   "file_extension": ".py",
   "mimetype": "text/x-python",
   "name": "python",
   "nbconvert_exporter": "python",
   "pygments_lexer": "ipython3",
   "version": "3.9.19"
  }
 },
 "nbformat": 4,
 "nbformat_minor": 4
}
